{
 "cells": [
  {
   "cell_type": "markdown",
   "metadata": {},
   "source": [
    "# 03 Homofilia temática entre usuarios\n",
    "## Objetivo: vectorizar a los usuarios en base a los tópicos sobre los cuales *tweetearon* y evaluar la similitud entre usuarios utilizando dichos vectores. \n",
    "Lo que haremos aquí es observar la similaridad que existe entre usuarios de acuerdo a los tópicos sobre los cuales hablan. Los tópicos son los que detectamos en el notebook ** 02 Matriz de coocurrencia de *hashtags* **\n",
    "\n",
    "Computamos valores de similitud entre usuarios dentro del grafo de usuarios:\n",
    "- pares de usuarios que se siguen en la red **vs** pares de usuarios tomados al azar\n",
    "- pares de usuarios que se siguen en la red clasificandolos como:\n",
    "    * usuarios que siguen al mismo candidato\n",
    "    * usuarios que siguen a distintos candidatos"
   ]
  },
  {
   "cell_type": "code",
   "execution_count": 1,
   "metadata": {},
   "outputs": [
    {
     "name": "stdout",
     "output_type": "stream",
     "text": [
      "Populating the interactive namespace from numpy and matplotlib\n"
     ]
    },
    {
     "name": "stderr",
     "output_type": "stream",
     "text": [
      "/home/tomas/anaconda3/lib/python3.6/site-packages/statsmodels/compat/pandas.py:56: FutureWarning: The pandas.core.datetools module is deprecated and will be removed in a future version. Please use the pandas.tseries module instead.\n",
      "  from pandas.core import datetools\n"
     ]
    }
   ],
   "source": [
    "%pylab inline\n",
    "import matplotlib as mpl\n",
    "import matplotlib.pyplot as plt\n",
    "import statsmodels.api as sm\n",
    "import re\n",
    "import pandas as pd\n",
    "import numpy as np\n",
    "import scipy.sparse as sp\n",
    "from scipy.sparse import coo_matrix\n",
    "from scipy.sparse import csr_matrix\n",
    "from sklearn.feature_extraction.text import TfidfTransformer\n",
    "\n",
    "paleta = mpl.cm.viridis"
   ]
  },
  {
   "cell_type": "markdown",
   "metadata": {},
   "source": [
    "# Parámetros de generación de la red de hashtags\n",
    "- USAR_RETWEETS: usar hashtags provenientes de todos los tweets o únicamente aquellos que no fueron retweets\n",
    "- UMBRAL: cantidad mínima de veces que coocurren dos hashtags en tweets para estar presentes en la búsqueda de topicos\n",
    "- FILTRAR_ENTROPIA: aplicar filtro de entropía de aquellos hashtags que fueron usados por los cuatro grupos de seguidores de políticos mas uniformemente"
   ]
  },
  {
   "cell_type": "code",
   "execution_count": 2,
   "metadata": {
    "collapsed": true
   },
   "outputs": [],
   "source": [
    "USAR_RETWEETS = False\n",
    "UMBRAL = 3\n",
    "FILTRAR_ENTROPIA = True"
   ]
  },
  {
   "cell_type": "code",
   "execution_count": 3,
   "metadata": {},
   "outputs": [
    {
     "data": {
      "text/html": [
       "<div>\n",
       "<style>\n",
       "    .dataframe thead tr:only-child th {\n",
       "        text-align: right;\n",
       "    }\n",
       "\n",
       "    .dataframe thead th {\n",
       "        text-align: left;\n",
       "    }\n",
       "\n",
       "    .dataframe tbody tr th {\n",
       "        vertical-align: top;\n",
       "    }\n",
       "</style>\n",
       "<table border=\"1\" class=\"dataframe\">\n",
       "  <thead>\n",
       "    <tr style=\"text-align: right;\">\n",
       "      <th></th>\n",
       "      <th>user_id</th>\n",
       "      <th>timestamp</th>\n",
       "      <th>hashtag</th>\n",
       "    </tr>\n",
       "  </thead>\n",
       "  <tbody>\n",
       "    <tr>\n",
       "      <th>0</th>\n",
       "      <td>186068</td>\n",
       "      <td>2015-11-05 17:48:32</td>\n",
       "      <td>PasanteDeClarín</td>\n",
       "    </tr>\n",
       "    <tr>\n",
       "      <th>1</th>\n",
       "      <td>186068</td>\n",
       "      <td>2015-11-03 21:41:31</td>\n",
       "      <td>QueVuelvaElFav</td>\n",
       "    </tr>\n",
       "    <tr>\n",
       "      <th>2</th>\n",
       "      <td>186068</td>\n",
       "      <td>2015-10-25 15:03:35</td>\n",
       "      <td>NingunaSanta</td>\n",
       "    </tr>\n",
       "  </tbody>\n",
       "</table>\n",
       "</div>"
      ],
      "text/plain": [
       "   user_id            timestamp          hashtag\n",
       "0   186068  2015-11-05 17:48:32  PasanteDeClarín\n",
       "1   186068  2015-11-03 21:41:31   QueVuelvaElFav\n",
       "2   186068  2015-10-25 15:03:35     NingunaSanta"
      ]
     },
     "execution_count": 3,
     "metadata": {},
     "output_type": "execute_result"
    }
   ],
   "source": [
    "user_hashtags = pd.read_csv('csv_files/user_hashtags.csv')\n",
    "user_hashtags.head(3)"
   ]
  },
  {
   "cell_type": "code",
   "execution_count": 4,
   "metadata": {
    "collapsed": true
   },
   "outputs": [],
   "source": [
    "hashtags = pd.read_csv('csv_files/hashtags.csv')"
   ]
  },
  {
   "cell_type": "code",
   "execution_count": 5,
   "metadata": {
    "collapsed": true
   },
   "outputs": [],
   "source": [
    "def extract_oslom(filename):\n",
    "    \"\"\"Leemos las comunidades que extrajimos en el notebook 02 Matriz coocurrencia hashtags \"\"\"\n",
    "    if (USAR_RETWEETS):\n",
    "        return pd.read_csv('csv_files/hashtags_comunidades_'+str(UMBRAL)+'_entropia'+str(FILTRAR_ENTROPIA)+'.csv')\n",
    "    else:\n",
    "        return pd.read_csv('csv_files/hashtags_comunidades_'+str(UMBRAL)+'_entropia'+str(FILTRAR_ENTROPIA)+'_sin_retweets.csv')\n",
    "\n",
    "def get_user_hashtag_topic(filename):\n",
    "    \"\"\"Devuelve un DataFrame de la forma: usuario,topico, cantidad de usos del topico\n",
    "    Eliminamos aquellos topicos que fueron utilizados menos de tres veces\"\"\"\n",
    "    df = extract_oslom(filename)\n",
    "    grouped = df.groupby(\"cluster\").count().reset_index()[[\"cluster\", \"id\"]]\n",
    "    grouped.columns = [\"cluster\", \"topic_count\"]\n",
    "    grouped = grouped[grouped.topic_count >= 3]\n",
    "    df = df.merge(grouped)\n",
    "    #df = df.merge(hashtags, left_on=\"hashtag_id\", right_on=\"id\")\n",
    "    df = df.merge(hashtags)\n",
    "    df = df.merge(user_hashtags)\n",
    "    return df"
   ]
  },
  {
   "cell_type": "code",
   "execution_count": 6,
   "metadata": {},
   "outputs": [
    {
     "data": {
      "text/html": [
       "<div>\n",
       "<style>\n",
       "    .dataframe thead tr:only-child th {\n",
       "        text-align: right;\n",
       "    }\n",
       "\n",
       "    .dataframe thead th {\n",
       "        text-align: left;\n",
       "    }\n",
       "\n",
       "    .dataframe tbody tr th {\n",
       "        vertical-align: top;\n",
       "    }\n",
       "</style>\n",
       "<table border=\"1\" class=\"dataframe\">\n",
       "  <thead>\n",
       "    <tr style=\"text-align: right;\">\n",
       "      <th></th>\n",
       "      <th>id</th>\n",
       "      <th>cluster</th>\n",
       "      <th>topic_count</th>\n",
       "      <th>hashtag</th>\n",
       "      <th>user_id</th>\n",
       "      <th>timestamp</th>\n",
       "    </tr>\n",
       "  </thead>\n",
       "  <tbody>\n",
       "    <tr>\n",
       "      <th>0</th>\n",
       "      <td>10</td>\n",
       "      <td>673</td>\n",
       "      <td>38</td>\n",
       "      <td>Gol</td>\n",
       "      <td>186068</td>\n",
       "      <td>2015-10-15 01:42:09</td>\n",
       "    </tr>\n",
       "    <tr>\n",
       "      <th>1</th>\n",
       "      <td>10</td>\n",
       "      <td>673</td>\n",
       "      <td>38</td>\n",
       "      <td>Gol</td>\n",
       "      <td>77779</td>\n",
       "      <td>2015-09-26 14:06:21</td>\n",
       "    </tr>\n",
       "    <tr>\n",
       "      <th>2</th>\n",
       "      <td>10</td>\n",
       "      <td>673</td>\n",
       "      <td>38</td>\n",
       "      <td>Gol</td>\n",
       "      <td>77779</td>\n",
       "      <td>2015-09-26 14:03:52</td>\n",
       "    </tr>\n",
       "  </tbody>\n",
       "</table>\n",
       "</div>"
      ],
      "text/plain": [
       "   id  cluster  topic_count hashtag  user_id            timestamp\n",
       "0  10      673           38     Gol   186068  2015-10-15 01:42:09\n",
       "1  10      673           38     Gol    77779  2015-09-26 14:06:21\n",
       "2  10      673           38     Gol    77779  2015-09-26 14:03:52"
      ]
     },
     "execution_count": 6,
     "metadata": {},
     "output_type": "execute_result"
    }
   ],
   "source": [
    "usuario_topico_df = get_user_hashtag_topic()\n",
    "usuario_topico_df.head(3)"
   ]
  },
  {
   "cell_type": "code",
   "execution_count": 7,
   "metadata": {},
   "outputs": [
    {
     "data": {
      "text/html": [
       "<div>\n",
       "<style>\n",
       "    .dataframe thead tr:only-child th {\n",
       "        text-align: right;\n",
       "    }\n",
       "\n",
       "    .dataframe thead th {\n",
       "        text-align: left;\n",
       "    }\n",
       "\n",
       "    .dataframe tbody tr th {\n",
       "        vertical-align: top;\n",
       "    }\n",
       "</style>\n",
       "<table border=\"1\" class=\"dataframe\">\n",
       "  <thead>\n",
       "    <tr style=\"text-align: right;\">\n",
       "      <th></th>\n",
       "      <th>user_id</th>\n",
       "      <th>cluster</th>\n",
       "      <th>id</th>\n",
       "      <th>topic_count</th>\n",
       "      <th>hashtag</th>\n",
       "      <th>timestamp</th>\n",
       "    </tr>\n",
       "  </thead>\n",
       "  <tbody>\n",
       "    <tr>\n",
       "      <th>0</th>\n",
       "      <td>1</td>\n",
       "      <td>476</td>\n",
       "      <td>1</td>\n",
       "      <td>1</td>\n",
       "      <td>1</td>\n",
       "      <td>1</td>\n",
       "    </tr>\n",
       "    <tr>\n",
       "      <th>1</th>\n",
       "      <td>1</td>\n",
       "      <td>677</td>\n",
       "      <td>1</td>\n",
       "      <td>1</td>\n",
       "      <td>1</td>\n",
       "      <td>1</td>\n",
       "    </tr>\n",
       "    <tr>\n",
       "      <th>2</th>\n",
       "      <td>1</td>\n",
       "      <td>705</td>\n",
       "      <td>1</td>\n",
       "      <td>1</td>\n",
       "      <td>1</td>\n",
       "      <td>1</td>\n",
       "    </tr>\n",
       "    <tr>\n",
       "      <th>3</th>\n",
       "      <td>1</td>\n",
       "      <td>936</td>\n",
       "      <td>4</td>\n",
       "      <td>4</td>\n",
       "      <td>4</td>\n",
       "      <td>4</td>\n",
       "    </tr>\n",
       "    <tr>\n",
       "      <th>4</th>\n",
       "      <td>1</td>\n",
       "      <td>995</td>\n",
       "      <td>1</td>\n",
       "      <td>1</td>\n",
       "      <td>1</td>\n",
       "      <td>1</td>\n",
       "    </tr>\n",
       "  </tbody>\n",
       "</table>\n",
       "</div>"
      ],
      "text/plain": [
       "   user_id  cluster  id  topic_count  hashtag  timestamp\n",
       "0        1      476   1            1        1          1\n",
       "1        1      677   1            1        1          1\n",
       "2        1      705   1            1        1          1\n",
       "3        1      936   4            4        4          4\n",
       "4        1      995   1            1        1          1"
      ]
     },
     "execution_count": 7,
     "metadata": {},
     "output_type": "execute_result"
    }
   ],
   "source": [
    "mat_df = usuario_topico_df.groupby([\"user_id\", \"cluster\"]).count().reset_index()\n",
    "mat_df.head()"
   ]
  },
  {
   "cell_type": "code",
   "execution_count": 8,
   "metadata": {},
   "outputs": [
    {
     "data": {
      "text/plain": [
       "1403"
      ]
     },
     "execution_count": 8,
     "metadata": {},
     "output_type": "execute_result"
    }
   ],
   "source": [
    "mat_df.cluster.max()"
   ]
  },
  {
   "cell_type": "code",
   "execution_count": 9,
   "metadata": {},
   "outputs": [
    {
     "data": {
      "text/plain": [
       "308167"
      ]
     },
     "execution_count": 9,
     "metadata": {},
     "output_type": "execute_result"
    }
   ],
   "source": [
    "mat_df.user_id.max()"
   ]
  },
  {
   "cell_type": "code",
   "execution_count": 10,
   "metadata": {},
   "outputs": [
    {
     "data": {
      "text/plain": [
       "<308169x1404 sparse matrix of type '<class 'numpy.int64'>'\n",
       "\twith 2200797 stored elements in Compressed Sparse Row format>"
      ]
     },
     "execution_count": 10,
     "metadata": {},
     "output_type": "execute_result"
    }
   ],
   "source": [
    "user_indexes = [u for u in mat_df.user_id.values]\n",
    "topic_indexes = [c for c in mat_df.cluster.values]\n",
    "values = mat_df.id.values\n",
    "matr = coo_matrix((values, (user_indexes, topic_indexes)),shape=(308169, mat_df.cluster.max() + 1))\n",
    "matr = matr.tocsr()\n",
    "matr"
   ]
  },
  {
   "cell_type": "code",
   "execution_count": 11,
   "metadata": {},
   "outputs": [
    {
     "data": {
      "text/plain": [
       "<308169x1404 sparse matrix of type '<class 'numpy.float64'>'\n",
       "\twith 2200797 stored elements in Compressed Sparse Row format>"
      ]
     },
     "execution_count": 11,
     "metadata": {},
     "output_type": "execute_result"
    }
   ],
   "source": [
    "# Tenemos la matriz usuario-topico, aplicamos TF-IDF con norma L2\n",
    "tfidf_transformer = TfidfTransformer()\n",
    "tfidf = tfidf_transformer.fit_transform(matr)\n",
    "tfidf"
   ]
  },
  {
   "cell_type": "code",
   "execution_count": 12,
   "metadata": {
    "collapsed": true
   },
   "outputs": [],
   "source": [
    "if (USAR_RETWEETS):\n",
    "    sp.save_npz('npz_files/tfidf_'+str(UMBRAL)+'_entropia'+str(FILTRAR_ENTROPIA), tfidf, compressed=True)\n",
    "else:\n",
    "    sp.save_npz('npz_files/tfidf_'+str(UMBRAL)+'_entropia'+str(FILTRAR_ENTROPIA)+'_sin_retweets', tfidf, compressed=True)"
   ]
  },
  {
   "cell_type": "code",
   "execution_count": 13,
   "metadata": {},
   "outputs": [
    {
     "data": {
      "text/html": [
       "<div>\n",
       "<style>\n",
       "    .dataframe thead tr:only-child th {\n",
       "        text-align: right;\n",
       "    }\n",
       "\n",
       "    .dataframe thead th {\n",
       "        text-align: left;\n",
       "    }\n",
       "\n",
       "    .dataframe tbody tr th {\n",
       "        vertical-align: top;\n",
       "    }\n",
       "</style>\n",
       "<table border=\"1\" class=\"dataframe\">\n",
       "  <thead>\n",
       "    <tr style=\"text-align: right;\">\n",
       "      <th></th>\n",
       "      <th>follower_id</th>\n",
       "      <th>followed_id</th>\n",
       "    </tr>\n",
       "  </thead>\n",
       "  <tbody>\n",
       "    <tr>\n",
       "      <th>0</th>\n",
       "      <td>240934</td>\n",
       "      <td>137027</td>\n",
       "    </tr>\n",
       "    <tr>\n",
       "      <th>1</th>\n",
       "      <td>175625</td>\n",
       "      <td>137027</td>\n",
       "    </tr>\n",
       "    <tr>\n",
       "      <th>2</th>\n",
       "      <td>227929</td>\n",
       "      <td>137027</td>\n",
       "    </tr>\n",
       "    <tr>\n",
       "      <th>3</th>\n",
       "      <td>87299</td>\n",
       "      <td>137027</td>\n",
       "    </tr>\n",
       "    <tr>\n",
       "      <th>4</th>\n",
       "      <td>8534</td>\n",
       "      <td>137027</td>\n",
       "    </tr>\n",
       "  </tbody>\n",
       "</table>\n",
       "</div>"
      ],
      "text/plain": [
       "   follower_id  followed_id\n",
       "0       240934       137027\n",
       "1       175625       137027\n",
       "2       227929       137027\n",
       "3        87299       137027\n",
       "4         8534       137027"
      ]
     },
     "execution_count": 13,
     "metadata": {},
     "output_type": "execute_result"
    }
   ],
   "source": [
    "followers = pd.read_csv('csv_files/followers.csv')\n",
    "followers.head()"
   ]
  },
  {
   "cell_type": "markdown",
   "metadata": {},
   "source": [
    "# 1. Pares de usuarios que se siguen en la red **vs** pares de usuarios tomados al azar"
   ]
  },
  {
   "cell_type": "code",
   "execution_count": 20,
   "metadata": {},
   "outputs": [
    {
     "data": {
      "text/plain": [
       "[[241474, 130161, 0.02845853955372954],\n",
       " [201422, 130161, 0.4656530266127922],\n",
       " [64371, 130161, 0.08251673780386487],\n",
       " [76291, 130161, 0.09925635190643721],\n",
       " [220254, 130161, 0.06469275054973506],\n",
       " [212946, 130161, 0.11924404733464503],\n",
       " [59849, 130161, 0.6500148214999695],\n",
       " [40735, 130161, 0.16819571245852472],\n",
       " [160860, 130161, 0.16834455491668002],\n",
       " [203054, 130161, 0.42679144746163594]]"
      ]
     },
     "execution_count": 20,
     "metadata": {},
     "output_type": "execute_result"
    }
   ],
   "source": [
    "# Creamos listado de la forma seguidor,seguido,similaridad\n",
    "similarity = []\n",
    "for index, row in followers.iterrows():\n",
    "    if (len(tfidf[row[\"follower_id\"]].data) != 0 and len(tfidf[row[\"followed_id\"]].data != 0)):\n",
    "        sim_row = [row[\"follower_id\"], row[\"followed_id\"]]\n",
    "        ans = tfidf[row[\"follower_id\"]].dot(tfidf[row[\"followed_id\"]].T).data\n",
    "        if (len(ans)==1):\n",
    "            # Evitar similitudes igual a cero\n",
    "            sim_row.append(ans[0])\n",
    "            similarity.append(sim_row)\n",
    "similarity[:10]"
   ]
  },
  {
   "cell_type": "code",
   "execution_count": 21,
   "metadata": {},
   "outputs": [
    {
     "data": {
      "text/html": [
       "<div>\n",
       "<style>\n",
       "    .dataframe thead tr:only-child th {\n",
       "        text-align: right;\n",
       "    }\n",
       "\n",
       "    .dataframe thead th {\n",
       "        text-align: left;\n",
       "    }\n",
       "\n",
       "    .dataframe tbody tr th {\n",
       "        vertical-align: top;\n",
       "    }\n",
       "</style>\n",
       "<table border=\"1\" class=\"dataframe\">\n",
       "  <thead>\n",
       "    <tr style=\"text-align: right;\">\n",
       "      <th></th>\n",
       "      <th>follower</th>\n",
       "      <th>followed</th>\n",
       "      <th>similarity</th>\n",
       "    </tr>\n",
       "  </thead>\n",
       "  <tbody>\n",
       "    <tr>\n",
       "      <th>0</th>\n",
       "      <td>241474</td>\n",
       "      <td>130161</td>\n",
       "      <td>0.028459</td>\n",
       "    </tr>\n",
       "    <tr>\n",
       "      <th>1</th>\n",
       "      <td>201422</td>\n",
       "      <td>130161</td>\n",
       "      <td>0.465653</td>\n",
       "    </tr>\n",
       "    <tr>\n",
       "      <th>2</th>\n",
       "      <td>64371</td>\n",
       "      <td>130161</td>\n",
       "      <td>0.082517</td>\n",
       "    </tr>\n",
       "    <tr>\n",
       "      <th>3</th>\n",
       "      <td>76291</td>\n",
       "      <td>130161</td>\n",
       "      <td>0.099256</td>\n",
       "    </tr>\n",
       "    <tr>\n",
       "      <th>4</th>\n",
       "      <td>220254</td>\n",
       "      <td>130161</td>\n",
       "      <td>0.064693</td>\n",
       "    </tr>\n",
       "  </tbody>\n",
       "</table>\n",
       "</div>"
      ],
      "text/plain": [
       "   follower  followed  similarity\n",
       "0    241474    130161    0.028459\n",
       "1    201422    130161    0.465653\n",
       "2     64371    130161    0.082517\n",
       "3     76291    130161    0.099256\n",
       "4    220254    130161    0.064693"
      ]
     },
     "execution_count": 21,
     "metadata": {},
     "output_type": "execute_result"
    }
   ],
   "source": [
    "followers_sim_df = pd.DataFrame(similarity, columns=[\"follower\", \"followed\", \"similarity\"])\n",
    "followers_sim_df.head()"
   ]
  },
  {
   "cell_type": "code",
   "execution_count": 28,
   "metadata": {},
   "outputs": [
    {
     "data": {
      "text/html": [
       "<div>\n",
       "<style>\n",
       "    .dataframe thead tr:only-child th {\n",
       "        text-align: right;\n",
       "    }\n",
       "\n",
       "    .dataframe thead th {\n",
       "        text-align: left;\n",
       "    }\n",
       "\n",
       "    .dataframe tbody tr th {\n",
       "        vertical-align: top;\n",
       "    }\n",
       "</style>\n",
       "<table border=\"1\" class=\"dataframe\">\n",
       "  <thead>\n",
       "    <tr style=\"text-align: right;\">\n",
       "      <th></th>\n",
       "      <th>follower</th>\n",
       "      <th>similaridad</th>\n",
       "      <th>cantidad</th>\n",
       "    </tr>\n",
       "  </thead>\n",
       "  <tbody>\n",
       "    <tr>\n",
       "      <th>0</th>\n",
       "      <td>39</td>\n",
       "      <td>0.141405</td>\n",
       "      <td>4</td>\n",
       "    </tr>\n",
       "    <tr>\n",
       "      <th>1</th>\n",
       "      <td>81</td>\n",
       "      <td>0.011200</td>\n",
       "      <td>4</td>\n",
       "    </tr>\n",
       "    <tr>\n",
       "      <th>2</th>\n",
       "      <td>114</td>\n",
       "      <td>0.097803</td>\n",
       "      <td>2</td>\n",
       "    </tr>\n",
       "    <tr>\n",
       "      <th>3</th>\n",
       "      <td>150</td>\n",
       "      <td>0.050723</td>\n",
       "      <td>1</td>\n",
       "    </tr>\n",
       "    <tr>\n",
       "      <th>4</th>\n",
       "      <td>157</td>\n",
       "      <td>0.548110</td>\n",
       "      <td>1</td>\n",
       "    </tr>\n",
       "  </tbody>\n",
       "</table>\n",
       "</div>"
      ],
      "text/plain": [
       "   follower  similaridad  cantidad\n",
       "0        39     0.141405         4\n",
       "1        81     0.011200         4\n",
       "2       114     0.097803         2\n",
       "3       150     0.050723         1\n",
       "4       157     0.548110         1"
      ]
     },
     "execution_count": 28,
     "metadata": {},
     "output_type": "execute_result"
    }
   ],
   "source": [
    "gr = followers_sim_df.groupby(\"follower\").agg(['median', 'count']).reset_index()\n",
    "gr.columns = [\"follower\", \"followed_id_median\", \"followed_count\", \"similaridad\", \"cantidad\"]\n",
    "gr = gr[[\"follower\", \"similaridad\", \"cantidad\"]]\n",
    "gr.head()"
   ]
  },
  {
   "cell_type": "code",
   "execution_count": 29,
   "metadata": {},
   "outputs": [
    {
     "data": {
      "text/plain": [
       "<203953x1404 sparse matrix of type '<class 'numpy.float64'>'\n",
       "\twith 2200797 stored elements in Compressed Sparse Row format>"
      ]
     },
     "execution_count": 29,
     "metadata": {},
     "output_type": "execute_result"
    }
   ],
   "source": [
    "tfidf2 = tfidf[tfidf.getnnz(1)>0]\n",
    "tfidf2"
   ]
  },
  {
   "cell_type": "code",
   "execution_count": 30,
   "metadata": {},
   "outputs": [
    {
     "data": {
      "text/plain": [
       "203953"
      ]
     },
     "execution_count": 30,
     "metadata": {},
     "output_type": "execute_result"
    }
   ],
   "source": [
    "upper = tfidf2.shape[0]\n",
    "upper"
   ]
  },
  {
   "cell_type": "code",
   "execution_count": 31,
   "metadata": {},
   "outputs": [
    {
     "data": {
      "text/plain": [
       "8032"
      ]
     },
     "execution_count": 31,
     "metadata": {},
     "output_type": "execute_result"
    }
   ],
   "source": [
    "# Por cada usuario tenemos un estadistico sobre la medida de similaridad con sus vecinos\n",
    "# por ello, tomamos a un usuario y comparamos con la misma cantidad de personas al azar\n",
    "random_sample_sim = []\n",
    "for index, row in gr.iterrows():\n",
    "    for c in range(int(row[\"cantidad\"])):\n",
    "        rand_row = [row[\"follower\"]]\n",
    "        user1 = np.random.randint(0, upper)\n",
    "        user2 = np.random.randint(0, upper)\n",
    "        ans = tfidf2[user1].dot(tfidf2[user2].T).data\n",
    "        if (len(ans) == 1):\n",
    "            rand_row.append(ans[0])\n",
    "            random_sample_sim.append(rand_row)\n",
    "len(random_sample_sim)"
   ]
  },
  {
   "cell_type": "code",
   "execution_count": 32,
   "metadata": {},
   "outputs": [
    {
     "data": {
      "text/html": [
       "<div>\n",
       "<style>\n",
       "    .dataframe thead tr:only-child th {\n",
       "        text-align: right;\n",
       "    }\n",
       "\n",
       "    .dataframe thead th {\n",
       "        text-align: left;\n",
       "    }\n",
       "\n",
       "    .dataframe tbody tr th {\n",
       "        vertical-align: top;\n",
       "    }\n",
       "</style>\n",
       "<table border=\"1\" class=\"dataframe\">\n",
       "  <thead>\n",
       "    <tr style=\"text-align: right;\">\n",
       "      <th></th>\n",
       "      <th>follower</th>\n",
       "      <th>similaridad</th>\n",
       "    </tr>\n",
       "  </thead>\n",
       "  <tbody>\n",
       "    <tr>\n",
       "      <th>0</th>\n",
       "      <td>39.0</td>\n",
       "      <td>0.604087</td>\n",
       "    </tr>\n",
       "    <tr>\n",
       "      <th>1</th>\n",
       "      <td>39.0</td>\n",
       "      <td>0.008540</td>\n",
       "    </tr>\n",
       "    <tr>\n",
       "      <th>2</th>\n",
       "      <td>81.0</td>\n",
       "      <td>0.111956</td>\n",
       "    </tr>\n",
       "    <tr>\n",
       "      <th>3</th>\n",
       "      <td>114.0</td>\n",
       "      <td>0.095893</td>\n",
       "    </tr>\n",
       "    <tr>\n",
       "      <th>4</th>\n",
       "      <td>150.0</td>\n",
       "      <td>0.005294</td>\n",
       "    </tr>\n",
       "  </tbody>\n",
       "</table>\n",
       "</div>"
      ],
      "text/plain": [
       "   follower  similaridad\n",
       "0      39.0     0.604087\n",
       "1      39.0     0.008540\n",
       "2      81.0     0.111956\n",
       "3     114.0     0.095893\n",
       "4     150.0     0.005294"
      ]
     },
     "execution_count": 32,
     "metadata": {},
     "output_type": "execute_result"
    }
   ],
   "source": [
    "df_random = pd.DataFrame(random_sample_sim, columns = [\"follower\", \"similaridad\"])\n",
    "df_random.head()"
   ]
  },
  {
   "cell_type": "code",
   "execution_count": 45,
   "metadata": {},
   "outputs": [
    {
     "data": {
      "text/html": [
       "<div>\n",
       "<style>\n",
       "    .dataframe thead tr:only-child th {\n",
       "        text-align: right;\n",
       "    }\n",
       "\n",
       "    .dataframe thead th {\n",
       "        text-align: left;\n",
       "    }\n",
       "\n",
       "    .dataframe tbody tr th {\n",
       "        vertical-align: top;\n",
       "    }\n",
       "</style>\n",
       "<table border=\"1\" class=\"dataframe\">\n",
       "  <thead>\n",
       "    <tr style=\"text-align: right;\">\n",
       "      <th></th>\n",
       "      <th>follower</th>\n",
       "      <th>similaridad</th>\n",
       "    </tr>\n",
       "  </thead>\n",
       "  <tbody>\n",
       "    <tr>\n",
       "      <th>0</th>\n",
       "      <td>39.0</td>\n",
       "      <td>0.306313</td>\n",
       "    </tr>\n",
       "    <tr>\n",
       "      <th>1</th>\n",
       "      <td>81.0</td>\n",
       "      <td>0.111956</td>\n",
       "    </tr>\n",
       "  </tbody>\n",
       "</table>\n",
       "</div>"
      ],
      "text/plain": [
       "   follower  similaridad\n",
       "0      39.0     0.306313\n",
       "1      81.0     0.111956"
      ]
     },
     "execution_count": 45,
     "metadata": {},
     "output_type": "execute_result"
    }
   ],
   "source": [
    "gr_random = df_random.groupby(\"follower\").median().reset_index()\n",
    "gr_random.head(2)"
   ]
  },
  {
   "cell_type": "code",
   "execution_count": 46,
   "metadata": {
    "collapsed": true
   },
   "outputs": [],
   "source": [
    "sim = gr[\"similaridad\"].values\n",
    "ran = gr_random[\"similaridad\"].values"
   ]
  },
  {
   "cell_type": "code",
   "execution_count": 48,
   "metadata": {},
   "outputs": [
    {
     "name": "stderr",
     "output_type": "stream",
     "text": [
      "/home/tomas/anaconda3/lib/python3.6/site-packages/ipykernel_launcher.py:8: MatplotlibDeprecationWarning: Adding an axes using the same arguments as a previous axes currently reuses the earlier instance.  In a future version, a new instance will always be created and returned.  Meanwhile, this warning can be suppressed, and the future behavior ensured, by passing a unique label to each axes instance.\n",
      "  \n"
     ]
    },
    {
     "data": {
      "image/png": "[encoded data removed]",
      "text/plain": [
       "<Figure size 1440x1080 with 1 Axes>"
      ]
     },
     "metadata": {},
     "output_type": "display_data"
    }
   ],
   "source": [
    "# ECDF\n",
    "plt.figure(figsize=(6,6))\n",
    "plt.rcParams.update({'font.size': 30})\n",
    "\n",
    "ax = plt.axes()\n",
    "ax.set_prop_cycle('color',[paleta(i) for i in np.linspace(0, 1, 3)])\n",
    "\n",
    "ax1=subplot()\n",
    "ecdf = sm.distributions.ECDF(sim)\n",
    "ecdf2 = sm.distributions.ECDF(ran)\n",
    "\n",
    "x = np.linspace(0, 1, 1000)\n",
    "y = 1-ecdf(x)\n",
    "y2 = 1-ecdf2(x)\n",
    "ax1.plot(x, y, label=\"Pares seguidor-seguido $(u_{i},u_{j})$\", linewidth=3)\n",
    "ax1.plot(x, y2, label=\"Pares tomados al azar $(u_{i},u_{j})$\", linewidth=3)\n",
    "plt.legend(frameon=False)\n",
    "plt.yscale('log')\n",
    "plt.xlabel(\"Similaridad $\\\\bf{s}$\")\n",
    "plt.ylabel(\"(1 - ECDF($\\\\bf{s}$)): P[$s(u_{i},u_{j}) > \\\\bf{s}$] (log)\")\n",
    "figure = plt.gcf()\n",
    "figure.set_size_inches(20, 15)\n",
    "plt.tight_layout()\n",
    "plt.show()"
   ]
  },
  {
   "cell_type": "markdown",
   "metadata": {},
   "source": [
    "# 2. Pares de usuarios que se siguen en la red: mismo candidato vs candidatos distintos"
   ]
  },
  {
   "cell_type": "code",
   "execution_count": 36,
   "metadata": {},
   "outputs": [
    {
     "data": {
      "text/html": [
       "<div>\n",
       "<style>\n",
       "    .dataframe thead tr:only-child th {\n",
       "        text-align: right;\n",
       "    }\n",
       "\n",
       "    .dataframe thead th {\n",
       "        text-align: left;\n",
       "    }\n",
       "\n",
       "    .dataframe tbody tr th {\n",
       "        vertical-align: top;\n",
       "    }\n",
       "</style>\n",
       "<table border=\"1\" class=\"dataframe\">\n",
       "  <thead>\n",
       "    <tr style=\"text-align: right;\">\n",
       "      <th></th>\n",
       "      <th>follower_id</th>\n",
       "      <th>followed_id</th>\n",
       "    </tr>\n",
       "  </thead>\n",
       "  <tbody>\n",
       "    <tr>\n",
       "      <th>0</th>\n",
       "      <td>240934</td>\n",
       "      <td>137027</td>\n",
       "    </tr>\n",
       "    <tr>\n",
       "      <th>1</th>\n",
       "      <td>175625</td>\n",
       "      <td>137027</td>\n",
       "    </tr>\n",
       "    <tr>\n",
       "      <th>2</th>\n",
       "      <td>227929</td>\n",
       "      <td>137027</td>\n",
       "    </tr>\n",
       "    <tr>\n",
       "      <th>3</th>\n",
       "      <td>87299</td>\n",
       "      <td>137027</td>\n",
       "    </tr>\n",
       "    <tr>\n",
       "      <th>4</th>\n",
       "      <td>8534</td>\n",
       "      <td>137027</td>\n",
       "    </tr>\n",
       "  </tbody>\n",
       "</table>\n",
       "</div>"
      ],
      "text/plain": [
       "   follower_id  followed_id\n",
       "0       240934       137027\n",
       "1       175625       137027\n",
       "2       227929       137027\n",
       "3        87299       137027\n",
       "4         8534       137027"
      ]
     },
     "execution_count": 36,
     "metadata": {},
     "output_type": "execute_result"
    }
   ],
   "source": [
    "if (not 'followers' in locals()):\n",
    "    followers = pd.read_csv('csv_files/followers.csv')\n",
    "followers.head()"
   ]
  },
  {
   "cell_type": "code",
   "execution_count": 37,
   "metadata": {
    "collapsed": true
   },
   "outputs": [],
   "source": [
    "macri_id = 137027\n",
    "scioli_id = 188326\n",
    "massa_id = 12218\n",
    "stolbizer_id = 224325"
   ]
  },
  {
   "cell_type": "code",
   "execution_count": 38,
   "metadata": {
    "collapsed": true
   },
   "outputs": [],
   "source": [
    "todos_macri = followers[followers[\"followed_id\"] == macri_id].follower_id.values\n",
    "todos_scioli = followers[followers[\"followed_id\"] == scioli_id].follower_id.values\n",
    "todos_massa = followers[followers[\"followed_id\"] == massa_id].follower_id.values\n",
    "todos_stolbizer = followers[followers[\"followed_id\"] == stolbizer_id].follower_id.values"
   ]
  },
  {
   "cell_type": "code",
   "execution_count": 39,
   "metadata": {
    "collapsed": true
   },
   "outputs": [],
   "source": [
    "user_clusters = {}\n",
    "def fill_user_clusters(followers, cluster):\n",
    "    \"\"\"Para cada grupo de seguidores, asignar una clase\"\"\"\n",
    "    for i in followers:\n",
    "        if not i in user_clusters:\n",
    "            user_clusters[i] = set()\n",
    "        user_clusters[i].add(cluster)\n",
    "fill_user_clusters(todos_macri, 0)\n",
    "fill_user_clusters(todos_scioli, 1)\n",
    "fill_user_clusters(todos_massa, 2)\n",
    "fill_user_clusters(todos_stolbizer, 3)"
   ]
  },
  {
   "cell_type": "code",
   "execution_count": 40,
   "metadata": {},
   "outputs": [
    {
     "data": {
      "text/plain": [
       "<308169x1404 sparse matrix of type '<class 'numpy.float64'>'\n",
       "\twith 2200797 stored elements in Compressed Sparse Row format>"
      ]
     },
     "execution_count": 40,
     "metadata": {},
     "output_type": "execute_result"
    }
   ],
   "source": [
    "if (not 'tfidf' in locals()):\n",
    "    if (USAR_RETWEETS):\n",
    "        tfidf = sp.load_npz('npz_files/tfidf_'+str(UMBRAL)+'_entropia'+str(FILTRAR_ENTROPIA)+\".npz\")\n",
    "    else:\n",
    "        tfidf = sp.load_npz('npz_files/tfidf_'+str(UMBRAL)+'_entropia'+str(FILTRAR_ENTROPIA)+'_sin_retweets.npz')\n",
    "tfidf"
   ]
  },
  {
   "cell_type": "code",
   "execution_count": 41,
   "metadata": {
    "collapsed": true
   },
   "outputs": [],
   "source": [
    "same_com = []\n",
    "diff_com = []\n",
    "for index, row in followers.iterrows():\n",
    "    fol_r = int(row[\"follower_id\"])\n",
    "    fol_d = int(row[\"followed_id\"])\n",
    "    #Dejamos solo los casos en que cada uno esta en su comunidad distinta a la del otro (union 2, int 0),\n",
    "    #o bien estan los dos en la misma y unica (union 1, int 1)\n",
    "    if ((fol_r not in user_clusters or fol_d not in user_clusters) or\n",
    "           (len(user_clusters[fol_r].union(user_clusters[fol_d])) +\n",
    "                   len(user_clusters[fol_r].intersection(user_clusters[fol_d])) != 2 )):\n",
    "        continue\n",
    "    ans = tfidf[row[\"follower_id\"]].dot(tfidf[row[\"followed_id\"]].T).data\n",
    "    if (len(ans)!=1):\n",
    "        # Evitar ceros\n",
    "        continue\n",
    "    if (not user_clusters[fol_r].isdisjoint(user_clusters[fol_d])):\n",
    "        # Si los conjuntos de comunidades no son disjuntos, siguen al mismo candidato\n",
    "        same_com.append(ans[0])\n",
    "    else:\n",
    "        diff_com.append(ans[0])"
   ]
  },
  {
   "cell_type": "code",
   "execution_count": 42,
   "metadata": {},
   "outputs": [
    {
     "data": {
      "text/plain": [
       "1367"
      ]
     },
     "execution_count": 42,
     "metadata": {},
     "output_type": "execute_result"
    }
   ],
   "source": [
    "len(same_com)"
   ]
  },
  {
   "cell_type": "code",
   "execution_count": 43,
   "metadata": {},
   "outputs": [
    {
     "data": {
      "text/plain": [
       "1033"
      ]
     },
     "execution_count": 43,
     "metadata": {},
     "output_type": "execute_result"
    }
   ],
   "source": [
    "len(diff_com)"
   ]
  },
  {
   "cell_type": "code",
   "execution_count": 44,
   "metadata": {},
   "outputs": [
    {
     "name": "stderr",
     "output_type": "stream",
     "text": [
      "/home/tomas/anaconda3/lib/python3.6/site-packages/ipykernel_launcher.py:8: MatplotlibDeprecationWarning: Adding an axes using the same arguments as a previous axes currently reuses the earlier instance.  In a future version, a new instance will always be created and returned.  Meanwhile, this warning can be suppressed, and the future behavior ensured, by passing a unique label to each axes instance.\n",
      "  \n"
     ]
    },
    {
     "data": {
      "image/png": "[encoded data removed]",
      "text/plain": [
       "<Figure size 1440x1080 with 1 Axes>"
      ]
     },
     "metadata": {},
     "output_type": "display_data"
    }
   ],
   "source": [
    "# ECDF\n",
    "plt.figure(figsize=(6,6))\n",
    "plt.rcParams.update({'font.size': 30})\n",
    "\n",
    "ax = plt.axes()\n",
    "ax.set_prop_cycle('color',[paleta(i) for i in np.linspace(0, 1, 3)])\n",
    "\n",
    "ax1=subplot()\n",
    "ecdf = sm.distributions.ECDF(same_com)\n",
    "ecdf2 = sm.distributions.ECDF(diff_com)\n",
    "\n",
    "x = np.linspace(0, 1, 1000)\n",
    "y = 1-ecdf(x)\n",
    "y2 = 1-ecdf2(x)\n",
    "ax1.plot(x, y, label=\"Pares de seguidor-seguido en misma comunidad política $(u_{i},u_{j})$\", linewidth=3)\n",
    "ax1.plot(x, y2, label=\"Pares de seguidor-seguido en distintas comunidades políticas $(u_{i},u_{j})$\", linewidth=3)\n",
    "plt.legend(frameon=False)\n",
    "plt.yscale('log')\n",
    "plt.xlabel(\"Similaridad $\\\\bf{s}$\")\n",
    "plt.ylabel(\"(1 - ECDF($\\\\bf{s}$)): P[$s(u_{i},u_{j}) > \\\\bf{s}$] (log)\")\n",
    "figure = plt.gcf() # get current figure\n",
    "figure.set_size_inches(20, 15)\n",
    "plt.tight_layout()\n",
    "plt.show()"
   ]
  }
 ],
 "metadata": {
  "kernelspec": {
   "display_name": "Python 3",
   "language": "python",
   "name": "python3"
  },
  "language_info": {
   "codemirror_mode": {
    "name": "ipython",
    "version": 3
   },
   "file_extension": ".py",
   "mimetype": "text/x-python",
   "name": "python",
   "nbconvert_exporter": "python",
   "pygments_lexer": "ipython3",
   "version": "3.6.3"
  }
 },
 "nbformat": 4,
 "nbformat_minor": 2
}
