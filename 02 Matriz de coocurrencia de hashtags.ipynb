{
 "cells": [
  {
   "cell_type": "markdown",
   "metadata": {},
   "source": [
    "# 02 Matriz de coocurrencia de *hashtags*\n",
    "## Objetivo: Convertir los *tweets* de los usuarios en *hashtags* de acuerdo en como fueron utilizados en conjunto, aplicando ciertos filtros, para aplicar OSLOM y obtener un tópicos de conversación\n",
    "En base a los *hashtags* utilizados, conformamos la red de coocurrencia de *hashtags*, primero filtrando aquellos que han sido utilizado menos de tres veces en conjunto, y luego eliminando aquellos cuya distribución de usos dentro de las comunidades de seguidores de políticos se asemeja más a la distribución de las comunidades de seguidores políticos (divergencia de Kullback-Leibler).\n",
    "\n",
    "Finalmente exportamos el grafo de coocurrencia de *hashtags* como una red no dirigida y pesada, siendo los pesos la cantidad de veces que se utilizaron dos *hashtags* en conjunto en *tweets*.\n",
    "\n",
    "Luego de aplicar el algoritmo de detección de comunidades OSLOM, exportamos la red para poder visualizarla con Gephi y LaNet-vi"
   ]
  },
  {
   "cell_type": "markdown",
   "metadata": {},
   "source": [
    "# Parámetros de generación de la red de *hashtags*\n",
    "- USAR_RETWEETS: usar hashtags provenientes de todos los tweets o únicamente aquellos que no fueron retweets\n",
    "- UMBRAL: cantidad mínima de veces que coocurren dos hashtags en tweets para estar presentes en la búsqueda de topicos\n",
    "- FILTRAR_ENTROPIA: aplicar filtro de entropía de aquellos hashtags que fueron usados por los cuatro grupos de seguidores de políticos mas uniformemente"
   ]
  },
  {
   "cell_type": "code",
   "execution_count": 1,
   "metadata": {
    "collapsed": true
   },
   "outputs": [],
   "source": [
    "import os\n",
    "import re\n",
    "import pandas as pd\n",
    "import numpy as np\n",
    "import scipy.sparse as sp\n",
    "from scipy.sparse import csr_matrix\n",
    "from scipy.sparse import coo_matrix\n",
    "import itertools\n",
    "import scipy.stats"
   ]
  },
  {
   "cell_type": "code",
   "execution_count": 2,
   "metadata": {
    "collapsed": true
   },
   "outputs": [],
   "source": [
    "USAR_RETWEETS = False\n",
    "UMBRAL = 3\n",
    "FILTRAR_ENTROPIA = True\n",
    "REESCRIBIR_ARCHIVOS = True\n",
    "\n",
    "GEPHI_UMBRAL = 20 # Definimos el umbral de co-ocurrencia de hashtags en la red que visualizaremos en Gephi"
   ]
  },
  {
   "cell_type": "markdown",
   "metadata": {},
   "source": [
    "### Comenzar exportación de la matriz de co-ocurrencia de hashtags"
   ]
  },
  {
   "cell_type": "code",
   "execution_count": 3,
   "metadata": {},
   "outputs": [
    {
     "name": "stdout",
     "output_type": "stream",
     "text": [
      "SIN RETWEETS\n"
     ]
    },
    {
     "data": {
      "text/html": [
       "<div>\n",
       "<style>\n",
       "    .dataframe thead tr:only-child th {\n",
       "        text-align: right;\n",
       "    }\n",
       "\n",
       "    .dataframe thead th {\n",
       "        text-align: left;\n",
       "    }\n",
       "\n",
       "    .dataframe tbody tr th {\n",
       "        vertical-align: top;\n",
       "    }\n",
       "</style>\n",
       "<table border=\"1\" class=\"dataframe\">\n",
       "  <thead>\n",
       "    <tr style=\"text-align: right;\">\n",
       "      <th></th>\n",
       "      <th>tweet_id</th>\n",
       "      <th>hashtag</th>\n",
       "    </tr>\n",
       "  </thead>\n",
       "  <tbody>\n",
       "    <tr>\n",
       "      <th>0</th>\n",
       "      <td>56491df463d0c4504f501809</td>\n",
       "      <td>1MillonDeViviendasComoSea</td>\n",
       "    </tr>\n",
       "    <tr>\n",
       "      <th>1</th>\n",
       "      <td>5649901a63d0c42c0c4cebbb</td>\n",
       "      <td>TuitUtil</td>\n",
       "    </tr>\n",
       "    <tr>\n",
       "      <th>2</th>\n",
       "      <td>56e28bd4ed464b302f1e55a0</td>\n",
       "      <td>MisTardesExtrañanTuSonrisaGG</td>\n",
       "    </tr>\n",
       "    <tr>\n",
       "      <th>3</th>\n",
       "      <td>56e0dfe1ed464b072c3a9d6f</td>\n",
       "      <td>FestivalesEnTVP</td>\n",
       "    </tr>\n",
       "    <tr>\n",
       "      <th>4</th>\n",
       "      <td>563fb22e63d0c46d6cad4d77</td>\n",
       "      <td>MichaelJackson</td>\n",
       "    </tr>\n",
       "  </tbody>\n",
       "</table>\n",
       "</div>"
      ],
      "text/plain": [
       "                   tweet_id                       hashtag\n",
       "0  56491df463d0c4504f501809     1MillonDeViviendasComoSea\n",
       "1  5649901a63d0c42c0c4cebbb                      TuitUtil\n",
       "2  56e28bd4ed464b302f1e55a0  MisTardesExtrañanTuSonrisaGG\n",
       "3  56e0dfe1ed464b072c3a9d6f               FestivalesEnTVP\n",
       "4  563fb22e63d0c46d6cad4d77                MichaelJackson"
      ]
     },
     "execution_count": 3,
     "metadata": {},
     "output_type": "execute_result"
    }
   ],
   "source": [
    "if (USAR_RETWEETS):\n",
    "    print(\"TODOS\")\n",
    "    tweet_hashtags_df = pd.read_csv('csv_files/tweet_hashtags.csv', keep_default_na = False, na_values=[\"na\"])\n",
    "else:\n",
    "    print(\"SIN RETWEETS\")\n",
    "    tweet_hashtags_df = pd.read_csv('csv_files/tweet_hashtags_sin_retweets.csv', keep_default_na = False, na_values=[\"na\"])\n",
    "tweet_hashtags_df.head()"
   ]
  },
  {
   "cell_type": "code",
   "execution_count": 4,
   "metadata": {
    "collapsed": true
   },
   "outputs": [],
   "source": [
    "# Buscamos co-ocurrencia de hashtags en un mismo tweet. Agrupamos por tweet y contamos hashtags\n",
    "grouped = tweet_hashtags_df.groupby(\"tweet_id\").count().reset_index()\n",
    "grouped.columns = [\"tweet_id\", \"cant\"]"
   ]
  },
  {
   "cell_type": "code",
   "execution_count": 5,
   "metadata": {
    "collapsed": true
   },
   "outputs": [],
   "source": [
    "# Eliminamos tweets que tienen un unico hashtag (no hay co-ocurrencia con ningun otro)\n",
    "grouped = grouped[grouped.cant != 1]"
   ]
  },
  {
   "cell_type": "code",
   "execution_count": 6,
   "metadata": {},
   "outputs": [
    {
     "data": {
      "text/html": [
       "<div>\n",
       "<style>\n",
       "    .dataframe thead tr:only-child th {\n",
       "        text-align: right;\n",
       "    }\n",
       "\n",
       "    .dataframe thead th {\n",
       "        text-align: left;\n",
       "    }\n",
       "\n",
       "    .dataframe tbody tr th {\n",
       "        vertical-align: top;\n",
       "    }\n",
       "</style>\n",
       "<table border=\"1\" class=\"dataframe\">\n",
       "  <thead>\n",
       "    <tr style=\"text-align: right;\">\n",
       "      <th></th>\n",
       "      <th>tweet_id</th>\n",
       "      <th>hashtag</th>\n",
       "    </tr>\n",
       "  </thead>\n",
       "  <tbody>\n",
       "    <tr>\n",
       "      <th>0</th>\n",
       "      <td>563fb22e63d0c46d6cad4d77</td>\n",
       "      <td>MichaelJackson</td>\n",
       "    </tr>\n",
       "    <tr>\n",
       "      <th>1</th>\n",
       "      <td>563fb22e63d0c46d6cad4d77</td>\n",
       "      <td>July2002</td>\n",
       "    </tr>\n",
       "    <tr>\n",
       "      <th>2</th>\n",
       "      <td>564809d563d0c42b9283e9a6</td>\n",
       "      <td>AllTheNight</td>\n",
       "    </tr>\n",
       "    <tr>\n",
       "      <th>3</th>\n",
       "      <td>564809d563d0c42b9283e9a6</td>\n",
       "      <td>HoyPintaPara</td>\n",
       "    </tr>\n",
       "    <tr>\n",
       "      <th>4</th>\n",
       "      <td>56e485b2ed464b6baf2d13a5</td>\n",
       "      <td>EnVIVO</td>\n",
       "    </tr>\n",
       "  </tbody>\n",
       "</table>\n",
       "</div>"
      ],
      "text/plain": [
       "                   tweet_id         hashtag\n",
       "0  563fb22e63d0c46d6cad4d77  MichaelJackson\n",
       "1  563fb22e63d0c46d6cad4d77        July2002\n",
       "2  564809d563d0c42b9283e9a6     AllTheNight\n",
       "3  564809d563d0c42b9283e9a6    HoyPintaPara\n",
       "4  56e485b2ed464b6baf2d13a5          EnVIVO"
      ]
     },
     "execution_count": 6,
     "metadata": {},
     "output_type": "execute_result"
    }
   ],
   "source": [
    "# Mergeamos para recuperar tweet_id con hashtag\n",
    "tweet_hashtags_df = tweet_hashtags_df.merge(grouped[[\"tweet_id\"]])\n",
    "tweet_hashtags_df.head()"
   ]
  },
  {
   "cell_type": "markdown",
   "metadata": {},
   "source": [
    "# Filtro de UMBRAL"
   ]
  },
  {
   "cell_type": "code",
   "execution_count": 7,
   "metadata": {},
   "outputs": [
    {
     "data": {
      "text/html": [
       "<div>\n",
       "<style>\n",
       "    .dataframe thead tr:only-child th {\n",
       "        text-align: right;\n",
       "    }\n",
       "\n",
       "    .dataframe thead th {\n",
       "        text-align: left;\n",
       "    }\n",
       "\n",
       "    .dataframe tbody tr th {\n",
       "        vertical-align: top;\n",
       "    }\n",
       "</style>\n",
       "<table border=\"1\" class=\"dataframe\">\n",
       "  <thead>\n",
       "    <tr style=\"text-align: right;\">\n",
       "      <th></th>\n",
       "      <th>tweet_id</th>\n",
       "      <th>hashtag</th>\n",
       "    </tr>\n",
       "  </thead>\n",
       "  <tbody>\n",
       "    <tr>\n",
       "      <th>0</th>\n",
       "      <td>563fb22e63d0c46d6cad4d77</td>\n",
       "      <td>MichaelJackson</td>\n",
       "    </tr>\n",
       "    <tr>\n",
       "      <th>1</th>\n",
       "      <td>563fb22e63d0c46d6cad4d77</td>\n",
       "      <td>July2002</td>\n",
       "    </tr>\n",
       "    <tr>\n",
       "      <th>2</th>\n",
       "      <td>564809d563d0c42b9283e9a6</td>\n",
       "      <td>AllTheNight</td>\n",
       "    </tr>\n",
       "    <tr>\n",
       "      <th>3</th>\n",
       "      <td>564809d563d0c42b9283e9a6</td>\n",
       "      <td>HoyPintaPara</td>\n",
       "    </tr>\n",
       "    <tr>\n",
       "      <th>4</th>\n",
       "      <td>56e485b2ed464b6baf2d13a5</td>\n",
       "      <td>EnVIVO</td>\n",
       "    </tr>\n",
       "  </tbody>\n",
       "</table>\n",
       "</div>"
      ],
      "text/plain": [
       "                   tweet_id         hashtag\n",
       "0  563fb22e63d0c46d6cad4d77  MichaelJackson\n",
       "1  563fb22e63d0c46d6cad4d77        July2002\n",
       "2  564809d563d0c42b9283e9a6     AllTheNight\n",
       "3  564809d563d0c42b9283e9a6    HoyPintaPara\n",
       "4  56e485b2ed464b6baf2d13a5          EnVIVO"
      ]
     },
     "execution_count": 7,
     "metadata": {},
     "output_type": "execute_result"
    }
   ],
   "source": [
    "hashtags = pd.read_csv('csv_files/hashtags.csv', keep_default_na = False, na_values=['_'])\n",
    "inverse_hashtags = dict()\n",
    "for index, row in hashtags.iterrows():\n",
    "    inverse_hashtags[str(row[\"hashtag\"])] = row[\"id\"]\n",
    "\n",
    "tweets = tweet_hashtags_df[[\"tweet_id\"]].drop_duplicates().reset_index()\n",
    "inverse_tweets = dict()\n",
    "for index, row in tweets.iterrows():\n",
    "    inverse_tweets[str(row[\"tweet_id\"])] = row[\"index\"]\n",
    "tweet_hashtags_df.dropna(inplace=True)\n",
    "tweet_hashtags_df.head()"
   ]
  },
  {
   "cell_type": "code",
   "execution_count": 8,
   "metadata": {},
   "outputs": [
    {
     "data": {
      "text/plain": [
       "(2605421, 2)"
      ]
     },
     "execution_count": 8,
     "metadata": {},
     "output_type": "execute_result"
    }
   ],
   "source": [
    "tweet_hashtags_df[\"hashtag\"] = tweet_hashtags_df.hashtag.apply(lambda x : x if x != \"NA\" else \"na\")\n",
    "tweet_hashtags_df.shape"
   ]
  },
  {
   "cell_type": "code",
   "execution_count": 9,
   "metadata": {},
   "outputs": [
    {
     "data": {
      "text/plain": [
       "<2605424x1272496 sparse matrix of type '<class 'numpy.int64'>'\n",
       "\twith 2605421 stored elements in Compressed Sparse Row format>"
      ]
     },
     "execution_count": 9,
     "metadata": {},
     "output_type": "execute_result"
    }
   ],
   "source": [
    "tweet_indexes = [inverse_tweets[t] for t in tweet_hashtags_df.tweet_id.values]\n",
    "hashtag_indexes = [inverse_hashtags[h] for h in tweet_hashtags_df.hashtag.values]\n",
    "values = [1 for i in range(len(tweet_indexes))]\n",
    "mat = coo_matrix((values, (tweet_indexes, hashtag_indexes)),shape=(max(tweet_indexes)+1, len(hashtags.id.values)))\n",
    "mat = mat.tocsr()\n",
    "mat"
   ]
  },
  {
   "cell_type": "code",
   "execution_count": 10,
   "metadata": {},
   "outputs": [
    {
     "data": {
      "text/plain": [
       "<1272496x1272496 sparse matrix of type '<class 'numpy.int64'>'\n",
       "\twith 3716101 stored elements in Compressed Sparse Row format>"
      ]
     },
     "execution_count": 10,
     "metadata": {},
     "output_type": "execute_result"
    }
   ],
   "source": [
    "res = mat.T.dot(mat)\n",
    "res = res.tocsr()\n",
    "res"
   ]
  },
  {
   "cell_type": "code",
   "execution_count": 11,
   "metadata": {
    "collapsed": true
   },
   "outputs": [],
   "source": [
    "pairs = [(x,y,w) for (x,y,w) in zip(res.nonzero()[0], res.nonzero()[1], res[res.nonzero()].A1) if x != y and w >= UMBRAL]"
   ]
  },
  {
   "cell_type": "code",
   "execution_count": 12,
   "metadata": {},
   "outputs": [
    {
     "data": {
      "text/plain": [
       "46185"
      ]
     },
     "execution_count": 12,
     "metadata": {},
     "output_type": "execute_result"
    }
   ],
   "source": [
    "keys = {}\n",
    "for x,y,w in pairs:\n",
    "    keys[x] = x\n",
    "    keys[y] = y\n",
    "filtro_hashtags = list(keys.keys())\n",
    "len(filtro_hashtags)"
   ]
  },
  {
   "cell_type": "code",
   "execution_count": 13,
   "metadata": {},
   "outputs": [
    {
     "data": {
      "text/plain": [
       "463377"
      ]
     },
     "execution_count": 13,
     "metadata": {},
     "output_type": "execute_result"
    }
   ],
   "source": [
    "len(np.unique(np.concatenate((res.nonzero()))))"
   ]
  },
  {
   "cell_type": "code",
   "execution_count": 14,
   "metadata": {},
   "outputs": [
    {
     "data": {
      "text/plain": [
       "(2605421, 3)"
      ]
     },
     "execution_count": 14,
     "metadata": {},
     "output_type": "execute_result"
    }
   ],
   "source": [
    "tweet_hashtags_indexed_df = tweet_hashtags_df.merge(hashtags)\n",
    "tweet_hashtags_indexed_df.shape"
   ]
  },
  {
   "cell_type": "code",
   "execution_count": 15,
   "metadata": {},
   "outputs": [
    {
     "data": {
      "text/plain": [
       "(1918986, 3)"
      ]
     },
     "execution_count": 15,
     "metadata": {},
     "output_type": "execute_result"
    }
   ],
   "source": [
    "tweet_hashtags_indexed_df = tweet_hashtags_indexed_df[tweet_hashtags_indexed_df[\"id\"].isin(filtro_hashtags)]\n",
    "tweet_hashtags_indexed_df.shape"
   ]
  },
  {
   "cell_type": "markdown",
   "metadata": {},
   "source": [
    "Nos quedamos con 1.9 millones de 2.6 millones de *tweets* originales"
   ]
  },
  {
   "cell_type": "markdown",
   "metadata": {},
   "source": [
    "# Filtro de entropia"
   ]
  },
  {
   "cell_type": "code",
   "execution_count": 16,
   "metadata": {},
   "outputs": [
    {
     "data": {
      "text/html": [
       "<div>\n",
       "<style>\n",
       "    .dataframe thead tr:only-child th {\n",
       "        text-align: right;\n",
       "    }\n",
       "\n",
       "    .dataframe thead th {\n",
       "        text-align: left;\n",
       "    }\n",
       "\n",
       "    .dataframe tbody tr th {\n",
       "        vertical-align: top;\n",
       "    }\n",
       "</style>\n",
       "<table border=\"1\" class=\"dataframe\">\n",
       "  <thead>\n",
       "    <tr style=\"text-align: right;\">\n",
       "      <th></th>\n",
       "      <th>user_id</th>\n",
       "      <th>timestamp</th>\n",
       "      <th>hashtag</th>\n",
       "    </tr>\n",
       "  </thead>\n",
       "  <tbody>\n",
       "    <tr>\n",
       "      <th>0</th>\n",
       "      <td>186068</td>\n",
       "      <td>2015-11-05 17:48:32</td>\n",
       "      <td>PasanteDeClarín</td>\n",
       "    </tr>\n",
       "    <tr>\n",
       "      <th>1</th>\n",
       "      <td>186068</td>\n",
       "      <td>2015-11-03 21:41:31</td>\n",
       "      <td>QueVuelvaElFav</td>\n",
       "    </tr>\n",
       "    <tr>\n",
       "      <th>2</th>\n",
       "      <td>186068</td>\n",
       "      <td>2015-10-25 15:03:35</td>\n",
       "      <td>NingunaSanta</td>\n",
       "    </tr>\n",
       "    <tr>\n",
       "      <th>3</th>\n",
       "      <td>186068</td>\n",
       "      <td>2015-10-24 05:49:57</td>\n",
       "      <td>Viernes</td>\n",
       "    </tr>\n",
       "    <tr>\n",
       "      <th>4</th>\n",
       "      <td>186068</td>\n",
       "      <td>2015-10-20 21:50:24</td>\n",
       "      <td>Velez</td>\n",
       "    </tr>\n",
       "  </tbody>\n",
       "</table>\n",
       "</div>"
      ],
      "text/plain": [
       "   user_id            timestamp          hashtag\n",
       "0   186068  2015-11-05 17:48:32  PasanteDeClarín\n",
       "1   186068  2015-11-03 21:41:31   QueVuelvaElFav\n",
       "2   186068  2015-10-25 15:03:35     NingunaSanta\n",
       "3   186068  2015-10-24 05:49:57          Viernes\n",
       "4   186068  2015-10-20 21:50:24            Velez"
      ]
     },
     "execution_count": 16,
     "metadata": {},
     "output_type": "execute_result"
    }
   ],
   "source": [
    "user_hashtags = pd.read_csv('csv_files/user_hashtags.csv')\n",
    "user_hashtags.head()"
   ]
  },
  {
   "cell_type": "code",
   "execution_count": 17,
   "metadata": {},
   "outputs": [
    {
     "data": {
      "text/plain": [
       "(15326649, 3)"
      ]
     },
     "execution_count": 17,
     "metadata": {},
     "output_type": "execute_result"
    }
   ],
   "source": [
    "user_hashtags.shape"
   ]
  },
  {
   "cell_type": "code",
   "execution_count": 18,
   "metadata": {},
   "outputs": [
    {
     "data": {
      "text/plain": [
       "(10458830, 3)"
      ]
     },
     "execution_count": 18,
     "metadata": {},
     "output_type": "execute_result"
    }
   ],
   "source": [
    "user_hashtags_filtered = user_hashtags.merge(tweet_hashtags_indexed_df[[\"hashtag\"]].drop_duplicates())\n",
    "user_hashtags_filtered.shape"
   ]
  },
  {
   "cell_type": "markdown",
   "metadata": {},
   "source": [
    "De los 15 millones de *hashtags* que utilizaron los usuarios, queremos únicamente los 46 mil que fueron utilizados en conjunto más de dos veces"
   ]
  },
  {
   "cell_type": "code",
   "execution_count": 19,
   "metadata": {
    "collapsed": true
   },
   "outputs": [],
   "source": [
    "def extract_only_followers(follower_network, politician_id, except_politicians):\n",
    "    \"\"\"Extrae de la red de usuarios, aquellos usuarios que siguen a :param politician_id: y que NO siguen a ninguno de \n",
    "    los usuarios que estan dentro de :param except_politicians: \"\"\"\n",
    "    politician_followers = follower_network[follower_network[\"followed_id\"] == politician_id].groupby(\"follower_id\").count().reset_index().follower_id.values\n",
    "    other_fols = follower_network[follower_network[\"followed_id\"].isin(except_politicians)].follower_id.values\n",
    "    filtered = [only for only in politician_followers if only not in other_fols]\n",
    "    return filtered"
   ]
  },
  {
   "cell_type": "code",
   "execution_count": 20,
   "metadata": {
    "collapsed": true
   },
   "outputs": [],
   "source": [
    "macri_id = 137027\n",
    "scioli_id = 188326\n",
    "massa_id = 12218\n",
    "stolbizer_id = 224325"
   ]
  },
  {
   "cell_type": "code",
   "execution_count": 21,
   "metadata": {
    "collapsed": true
   },
   "outputs": [],
   "source": [
    "follower_network = pd.read_csv('csv_files/followers.csv')"
   ]
  },
  {
   "cell_type": "code",
   "execution_count": 22,
   "metadata": {
    "collapsed": true
   },
   "outputs": [],
   "source": [
    "macri_followers = extract_only_followers(follower_network, macri_id, [scioli_id, massa_id, stolbizer_id])\n",
    "scioli_followers = extract_only_followers(follower_network, scioli_id, [macri_id, massa_id, stolbizer_id])\n",
    "massa_followers = extract_only_followers(follower_network, massa_id, [macri_id, scioli_id, stolbizer_id])\n",
    "stolbizer_followers = extract_only_followers(follower_network, stolbizer_id, [macri_id, scioli_id, massa_id])"
   ]
  },
  {
   "cell_type": "code",
   "execution_count": 23,
   "metadata": {
    "collapsed": true
   },
   "outputs": [],
   "source": [
    "pol_folls = np.concatenate((stolbizer_followers, scioli_followers, massa_followers, macri_followers))\n",
    "only_politician_user_hashtags_filtered = user_hashtags_filtered[user_hashtags_filtered[\"user_id\"].isin(pol_folls)]\n",
    "all_hashtags = user_hashtags_filtered[[\"hashtag\"]].drop_duplicates().reset_index()[[\"hashtag\"]]\n",
    "only_pol_hashtags = only_politician_user_hashtags_filtered[[\"hashtag\"]].drop_duplicates().reset_index()[[\"hashtag\"]]\n",
    "all_hash_set = set(all_hashtags.hashtag.values.tolist())\n",
    "only_pol_set = set(only_pol_hashtags.hashtag.values.tolist())\n",
    "excluded_hashtags = all_hash_set.difference(only_pol_set)\n",
    "excluded_df = pd.DataFrame(data=[h2 for h2 in excluded_hashtags], columns=[\"hashtag\"])"
   ]
  },
  {
   "cell_type": "code",
   "execution_count": 24,
   "metadata": {},
   "outputs": [
    {
     "data": {
      "text/plain": [
       "(10097, 1)"
      ]
     },
     "execution_count": 24,
     "metadata": {},
     "output_type": "execute_result"
    }
   ],
   "source": [
    "excluded_df.shape"
   ]
  },
  {
   "cell_type": "code",
   "execution_count": 25,
   "metadata": {
    "collapsed": true
   },
   "outputs": [],
   "source": [
    "macri_df = pd.DataFrame(data=[i for i in zip(macri_followers, np.repeat(0, len(macri_followers)))], columns=[\"user_id\", \"user_cluster\"])\n",
    "scioli_df = pd.DataFrame(data=[i for i in zip(scioli_followers, np.repeat(1, len(scioli_followers)))], columns=[\"user_id\", \"user_cluster\"])\n",
    "massa_df = pd.DataFrame(data=[i for i in zip(massa_followers, np.repeat(2, len(massa_followers)))], columns=[\"user_id\", \"user_cluster\"])\n",
    "stolbizer_df = pd.DataFrame(data=[i for i in zip(stolbizer_followers, np.repeat(3, len(stolbizer_followers)))], columns=[\"user_id\", \"user_cluster\"])\n",
    "user_communities_df = pd.concat((macri_df,scioli_df,massa_df,stolbizer_df))"
   ]
  },
  {
   "cell_type": "code",
   "execution_count": 26,
   "metadata": {
    "collapsed": true
   },
   "outputs": [],
   "source": [
    "user_hashtags_filtered = user_hashtags_filtered.merge(user_communities_df)\n",
    "only_politician_user_hashtags_filtered = only_politician_user_hashtags_filtered.merge(user_communities_df)"
   ]
  },
  {
   "cell_type": "code",
   "execution_count": 27,
   "metadata": {},
   "outputs": [
    {
     "data": {
      "text/plain": [
       "array([38211, 32087,  9089,  6361])"
      ]
     },
     "execution_count": 27,
     "metadata": {},
     "output_type": "execute_result"
    }
   ],
   "source": [
    "def get_qk():\n",
    "    clusters_size = user_communities_df.groupby(\"user_cluster\").count().reset_index()\n",
    "    clus_size_total = sum(clusters_size.user_id.values)\n",
    "    clusters_size[\"user_index\"] = clusters_size.user_id / clus_size_total\n",
    "    qk = clusters_size.sort_values(\"user_cluster\").user_id.values\n",
    "    return qk\n",
    "get_qk()"
   ]
  },
  {
   "cell_type": "code",
   "execution_count": 28,
   "metadata": {},
   "outputs": [
    {
     "data": {
      "text/html": [
       "<div>\n",
       "<style>\n",
       "    .dataframe thead tr:only-child th {\n",
       "        text-align: right;\n",
       "    }\n",
       "\n",
       "    .dataframe thead th {\n",
       "        text-align: left;\n",
       "    }\n",
       "\n",
       "    .dataframe tbody tr th {\n",
       "        vertical-align: top;\n",
       "    }\n",
       "</style>\n",
       "<table border=\"1\" class=\"dataframe\">\n",
       "  <thead>\n",
       "    <tr style=\"text-align: right;\">\n",
       "      <th></th>\n",
       "      <th>hashtag</th>\n",
       "    </tr>\n",
       "  </thead>\n",
       "  <tbody>\n",
       "    <tr>\n",
       "      <th>0</th>\n",
       "      <td>QueVuelvaElFav</td>\n",
       "    </tr>\n",
       "    <tr>\n",
       "      <th>1</th>\n",
       "      <td>PrefieroAMacriPorque</td>\n",
       "    </tr>\n",
       "  </tbody>\n",
       "</table>\n",
       "</div>"
      ],
      "text/plain": [
       "                hashtag\n",
       "0        QueVuelvaElFav\n",
       "1  PrefieroAMacriPorque"
      ]
     },
     "execution_count": 28,
     "metadata": {},
     "output_type": "execute_result"
    }
   ],
   "source": [
    "remaining_hashtags = user_hashtags_filtered[[\"hashtag\"]].drop_duplicates()\n",
    "remaining_hashtags.head(2)"
   ]
  },
  {
   "cell_type": "code",
   "execution_count": 29,
   "metadata": {
    "collapsed": true
   },
   "outputs": [],
   "source": [
    "cluster = 4\n",
    "def get_hashtag_topic_combination():\n",
    "    \"\"\"Devuelve cada combinacion posible entre las cuatro comunidades de usuarios y hashtag\"\"\"\n",
    "    list1= range(cluster)\n",
    "    list2= remaining_hashtags.hashtag.values\n",
    "    d = []\n",
    "    for i in list1:\n",
    "        for j in list2:\n",
    "            d.append([i,j,0])\n",
    "    todos = pd.DataFrame(data=d)\n",
    "    todos.columns=[\"user_cluster\", \"hashtag\", \"usos\"]\n",
    "    return todos\n",
    "\n",
    "def agg_entropy(pk):\n",
    "    \"\"\"Funcion de agregacion auxiliar para invocar el calculo de entropia sobre el DataFrame\"\"\"\n",
    "    qk = get_qk()\n",
    "    return scipy.stats.entropy(pk, qk)\n",
    "\n",
    "def get_entropy():\n",
    "    \"\"\"Calculo de la divergencia de Kullback-Leibler para cada distribucion de usos de un hashtag,\n",
    "    respecto a las comunidades de usuarios\"\"\"\n",
    "    c = user_hashtags_filtered.groupby([\"hashtag\",\"user_cluster\"]).count().reset_index()\n",
    "    todos = get_hashtag_topic_combination()    \n",
    "    todos_set = set ([((i,j)) for i,j in zip(todos.user_cluster.values, todos.hashtag.values)])\n",
    "    c_merged = c.merge(todos, how='left')\n",
    "    existing_s = set ([((i,j)) for i,j in zip(c_merged.user_cluster.values, c_merged.hashtag.values)])\n",
    "    diff = todos_set.difference(existing_s)    \n",
    "    missing = pd.DataFrame(data=[(i,j,0) for i,j in diff], columns=[\"user_cluster\", \"hashtag\", \"user_id\"])\n",
    "    filled = pd.concat((c,missing))\n",
    "    g = filled.groupby(\"hashtag\").sum().reset_index()[[\"hashtag\", \"user_id\"]]\n",
    "    g.columns = [\"hashtag\", \"total\"]\n",
    "    t = filled.merge(g)\n",
    "    t.sort_values([\"hashtag\", \"user_cluster\"], inplace=True)\n",
    "    t[\"proba\"] = t.user_id / t.total\n",
    "    ans_pk = t.groupby(\"hashtag\").agg({'proba': scipy.stats.entropy}).reset_index()\n",
    "    ans_pk_qk = t.groupby(\"hashtag\").agg({'proba': agg_entropy}).reset_index()\n",
    "    ans_pk_qk.columns=[\"hashtag\", \"proba_kull_lei\"]\n",
    "    ans = ans_pk.merge(ans_pk_qk)\n",
    "    return ans"
   ]
  },
  {
   "cell_type": "code",
   "execution_count": 30,
   "metadata": {},
   "outputs": [
    {
     "data": {
      "text/html": [
       "<div>\n",
       "<style>\n",
       "    .dataframe thead tr:only-child th {\n",
       "        text-align: right;\n",
       "    }\n",
       "\n",
       "    .dataframe thead th {\n",
       "        text-align: left;\n",
       "    }\n",
       "\n",
       "    .dataframe tbody tr th {\n",
       "        vertical-align: top;\n",
       "    }\n",
       "</style>\n",
       "<table border=\"1\" class=\"dataframe\">\n",
       "  <thead>\n",
       "    <tr style=\"text-align: right;\">\n",
       "      <th></th>\n",
       "      <th>hashtag</th>\n",
       "      <th>proba</th>\n",
       "      <th>proba_kull_lei</th>\n",
       "    </tr>\n",
       "  </thead>\n",
       "  <tbody>\n",
       "    <tr>\n",
       "      <th>0</th>\n",
       "      <td>007SPECTRE</td>\n",
       "      <td>0.865993</td>\n",
       "      <td>0.102941</td>\n",
       "    </tr>\n",
       "    <tr>\n",
       "      <th>1</th>\n",
       "      <td>04Mar</td>\n",
       "      <td>0.562335</td>\n",
       "      <td>0.604969</td>\n",
       "    </tr>\n",
       "    <tr>\n",
       "      <th>2</th>\n",
       "      <td>05Nov</td>\n",
       "      <td>0.000000</td>\n",
       "      <td>0.808289</td>\n",
       "    </tr>\n",
       "    <tr>\n",
       "      <th>3</th>\n",
       "      <td>06Mar</td>\n",
       "      <td>0.000000</td>\n",
       "      <td>0.808289</td>\n",
       "    </tr>\n",
       "    <tr>\n",
       "      <th>4</th>\n",
       "      <td>06Nov</td>\n",
       "      <td>0.000000</td>\n",
       "      <td>0.808289</td>\n",
       "    </tr>\n",
       "  </tbody>\n",
       "</table>\n",
       "</div>"
      ],
      "text/plain": [
       "      hashtag     proba  proba_kull_lei\n",
       "0  007SPECTRE  0.865993        0.102941\n",
       "1       04Mar  0.562335        0.604969\n",
       "2       05Nov  0.000000        0.808289\n",
       "3       06Mar  0.000000        0.808289\n",
       "4       06Nov  0.000000        0.808289"
      ]
     },
     "execution_count": 30,
     "metadata": {},
     "output_type": "execute_result"
    }
   ],
   "source": [
    "ans = get_entropy()\n",
    "ans.head()"
   ]
  },
  {
   "cell_type": "code",
   "execution_count": 31,
   "metadata": {},
   "outputs": [
    {
     "data": {
      "text/plain": [
       "0.031136842448633035"
      ]
     },
     "execution_count": 31,
     "metadata": {},
     "output_type": "execute_result"
    }
   ],
   "source": [
    "perc_to_delete = 5\n",
    "quantil = np.percentile(ans.proba_kull_lei.values, perc_to_delete)\n",
    "quantil"
   ]
  },
  {
   "cell_type": "code",
   "execution_count": 32,
   "metadata": {},
   "outputs": [
    {
     "data": {
      "text/html": [
       "<div>\n",
       "<style>\n",
       "    .dataframe thead tr:only-child th {\n",
       "        text-align: right;\n",
       "    }\n",
       "\n",
       "    .dataframe thead th {\n",
       "        text-align: left;\n",
       "    }\n",
       "\n",
       "    .dataframe tbody tr th {\n",
       "        vertical-align: top;\n",
       "    }\n",
       "</style>\n",
       "<table border=\"1\" class=\"dataframe\">\n",
       "  <thead>\n",
       "    <tr style=\"text-align: right;\">\n",
       "      <th></th>\n",
       "      <th>hashtag</th>\n",
       "      <th>proba</th>\n",
       "      <th>proba_kull_lei</th>\n",
       "    </tr>\n",
       "  </thead>\n",
       "  <tbody>\n",
       "    <tr>\n",
       "      <th>3072</th>\n",
       "      <td>Bentancur</td>\n",
       "      <td>1.157284</td>\n",
       "      <td>0.000019</td>\n",
       "    </tr>\n",
       "    <tr>\n",
       "      <th>9554</th>\n",
       "      <td>FelizDiaDeLaMusica</td>\n",
       "      <td>1.162503</td>\n",
       "      <td>0.000088</td>\n",
       "    </tr>\n",
       "    <tr>\n",
       "      <th>15950</th>\n",
       "      <td>MeDaMiedo</td>\n",
       "      <td>1.168219</td>\n",
       "      <td>0.000228</td>\n",
       "    </tr>\n",
       "    <tr>\n",
       "      <th>5829</th>\n",
       "      <td>ContraSanValentin</td>\n",
       "      <td>1.159907</td>\n",
       "      <td>0.000235</td>\n",
       "    </tr>\n",
       "    <tr>\n",
       "      <th>5906</th>\n",
       "      <td>CopaSudamericana</td>\n",
       "      <td>1.147672</td>\n",
       "      <td>0.000322</td>\n",
       "    </tr>\n",
       "  </tbody>\n",
       "</table>\n",
       "</div>"
      ],
      "text/plain": [
       "                  hashtag     proba  proba_kull_lei\n",
       "3072            Bentancur  1.157284        0.000019\n",
       "9554   FelizDiaDeLaMusica  1.162503        0.000088\n",
       "15950           MeDaMiedo  1.168219        0.000228\n",
       "5829    ContraSanValentin  1.159907        0.000235\n",
       "5906     CopaSudamericana  1.147672        0.000322"
      ]
     },
     "execution_count": 32,
     "metadata": {},
     "output_type": "execute_result"
    }
   ],
   "source": [
    "# Mientras mas parecido fue la utilizacion del hashtag con respecto a la comunidad de usuarios,\n",
    "# menor es el valor de la divergencia. Queremos eliminar estos hashtags\n",
    "filtered_hashtags_entropy = ans[ans[\"proba_kull_lei\"] <= quantil].sort_values(\"proba_kull_lei\")\n",
    "filtered_hashtags_entropy.head()"
   ]
  },
  {
   "cell_type": "code",
   "execution_count": 33,
   "metadata": {},
   "outputs": [
    {
     "data": {
      "text/plain": [
       "(1806, 3)"
      ]
     },
     "execution_count": 33,
     "metadata": {},
     "output_type": "execute_result"
    }
   ],
   "source": [
    "filtered_hashtags_entropy.shape"
   ]
  },
  {
   "cell_type": "code",
   "execution_count": 34,
   "metadata": {},
   "outputs": [
    {
     "data": {
      "text/plain": [
       "(34282, 1)"
      ]
     },
     "execution_count": 34,
     "metadata": {},
     "output_type": "execute_result"
    }
   ],
   "source": [
    "keep_hashtags = ans[ans[\"proba_kull_lei\"] > quantil][[\"hashtag\"]].reset_index()[[\"hashtag\"]]\n",
    "keep_hashtags.shape"
   ]
  },
  {
   "cell_type": "code",
   "execution_count": 35,
   "metadata": {},
   "outputs": [
    {
     "data": {
      "text/html": [
       "<div>\n",
       "<style>\n",
       "    .dataframe thead tr:only-child th {\n",
       "        text-align: right;\n",
       "    }\n",
       "\n",
       "    .dataframe thead th {\n",
       "        text-align: left;\n",
       "    }\n",
       "\n",
       "    .dataframe tbody tr th {\n",
       "        vertical-align: top;\n",
       "    }\n",
       "</style>\n",
       "<table border=\"1\" class=\"dataframe\">\n",
       "  <thead>\n",
       "    <tr style=\"text-align: right;\">\n",
       "      <th></th>\n",
       "      <th>hashtag</th>\n",
       "    </tr>\n",
       "  </thead>\n",
       "  <tbody>\n",
       "    <tr>\n",
       "      <th>0</th>\n",
       "      <td>NeuquénConScioli</td>\n",
       "    </tr>\n",
       "    <tr>\n",
       "      <th>1</th>\n",
       "      <td>ChávezInvicto</td>\n",
       "    </tr>\n",
       "    <tr>\n",
       "      <th>2</th>\n",
       "      <td>Vespertino</td>\n",
       "    </tr>\n",
       "    <tr>\n",
       "      <th>3</th>\n",
       "      <td>CostaDíaz</td>\n",
       "    </tr>\n",
       "    <tr>\n",
       "      <th>4</th>\n",
       "      <td>PAris</td>\n",
       "    </tr>\n",
       "  </tbody>\n",
       "</table>\n",
       "</div>"
      ],
      "text/plain": [
       "            hashtag\n",
       "0  NeuquénConScioli\n",
       "1     ChávezInvicto\n",
       "2        Vespertino\n",
       "3         CostaDíaz\n",
       "4             PAris"
      ]
     },
     "execution_count": 35,
     "metadata": {},
     "output_type": "execute_result"
    }
   ],
   "source": [
    "excluded_df.head()"
   ]
  },
  {
   "cell_type": "code",
   "execution_count": 36,
   "metadata": {},
   "outputs": [
    {
     "data": {
      "text/plain": [
       "(10097, 1)"
      ]
     },
     "execution_count": 36,
     "metadata": {},
     "output_type": "execute_result"
    }
   ],
   "source": [
    "excluded_df.shape"
   ]
  },
  {
   "cell_type": "code",
   "execution_count": 37,
   "metadata": {},
   "outputs": [
    {
     "data": {
      "text/html": [
       "<div>\n",
       "<style>\n",
       "    .dataframe thead tr:only-child th {\n",
       "        text-align: right;\n",
       "    }\n",
       "\n",
       "    .dataframe thead th {\n",
       "        text-align: left;\n",
       "    }\n",
       "\n",
       "    .dataframe tbody tr th {\n",
       "        vertical-align: top;\n",
       "    }\n",
       "</style>\n",
       "<table border=\"1\" class=\"dataframe\">\n",
       "  <thead>\n",
       "    <tr style=\"text-align: right;\">\n",
       "      <th></th>\n",
       "      <th>hashtag</th>\n",
       "    </tr>\n",
       "  </thead>\n",
       "  <tbody>\n",
       "  </tbody>\n",
       "</table>\n",
       "</div>"
      ],
      "text/plain": [
       "Empty DataFrame\n",
       "Columns: [hashtag]\n",
       "Index: []"
      ]
     },
     "execution_count": 37,
     "metadata": {},
     "output_type": "execute_result"
    }
   ],
   "source": [
    "# Nos aseguramos de que no haya coincidencia entre los hashtags que no fueron utilizados por algun usuario que seguia\n",
    "# unicamente a un politico\n",
    "excluded_df.merge(keep_hashtags)"
   ]
  },
  {
   "cell_type": "code",
   "execution_count": 38,
   "metadata": {},
   "outputs": [
    {
     "data": {
      "text/plain": [
       "(44379, 1)"
      ]
     },
     "execution_count": 38,
     "metadata": {},
     "output_type": "execute_result"
    }
   ],
   "source": [
    "filter_hashtags = pd.concat((excluded_df,keep_hashtags))\n",
    "filter_hashtags.shape"
   ]
  },
  {
   "cell_type": "code",
   "execution_count": 39,
   "metadata": {},
   "outputs": [
    {
     "data": {
      "text/html": [
       "<div>\n",
       "<style>\n",
       "    .dataframe thead tr:only-child th {\n",
       "        text-align: right;\n",
       "    }\n",
       "\n",
       "    .dataframe thead th {\n",
       "        text-align: left;\n",
       "    }\n",
       "\n",
       "    .dataframe tbody tr th {\n",
       "        vertical-align: top;\n",
       "    }\n",
       "</style>\n",
       "<table border=\"1\" class=\"dataframe\">\n",
       "  <thead>\n",
       "    <tr style=\"text-align: right;\">\n",
       "      <th></th>\n",
       "      <th>tweet_id</th>\n",
       "      <th>hashtag</th>\n",
       "    </tr>\n",
       "  </thead>\n",
       "  <tbody>\n",
       "    <tr>\n",
       "      <th>0</th>\n",
       "      <td>563fb22e63d0c46d6cad4d77</td>\n",
       "      <td>MichaelJackson</td>\n",
       "    </tr>\n",
       "    <tr>\n",
       "      <th>1</th>\n",
       "      <td>563fb22e63d0c46d6cad4d77</td>\n",
       "      <td>July2002</td>\n",
       "    </tr>\n",
       "    <tr>\n",
       "      <th>2</th>\n",
       "      <td>564809d563d0c42b9283e9a6</td>\n",
       "      <td>AllTheNight</td>\n",
       "    </tr>\n",
       "    <tr>\n",
       "      <th>3</th>\n",
       "      <td>564809d563d0c42b9283e9a6</td>\n",
       "      <td>HoyPintaPara</td>\n",
       "    </tr>\n",
       "    <tr>\n",
       "      <th>4</th>\n",
       "      <td>56e485b2ed464b6baf2d13a5</td>\n",
       "      <td>EnVIVO</td>\n",
       "    </tr>\n",
       "  </tbody>\n",
       "</table>\n",
       "</div>"
      ],
      "text/plain": [
       "                   tweet_id         hashtag\n",
       "0  563fb22e63d0c46d6cad4d77  MichaelJackson\n",
       "1  563fb22e63d0c46d6cad4d77        July2002\n",
       "2  564809d563d0c42b9283e9a6     AllTheNight\n",
       "3  564809d563d0c42b9283e9a6    HoyPintaPara\n",
       "4  56e485b2ed464b6baf2d13a5          EnVIVO"
      ]
     },
     "execution_count": 39,
     "metadata": {},
     "output_type": "execute_result"
    }
   ],
   "source": [
    "tweet_hashtags_df.head()"
   ]
  },
  {
   "cell_type": "code",
   "execution_count": 40,
   "metadata": {},
   "outputs": [
    {
     "data": {
      "text/plain": [
       "(2605421, 2)"
      ]
     },
     "execution_count": 40,
     "metadata": {},
     "output_type": "execute_result"
    }
   ],
   "source": [
    "tweet_hashtags_df.shape"
   ]
  },
  {
   "cell_type": "code",
   "execution_count": 41,
   "metadata": {},
   "outputs": [
    {
     "data": {
      "text/plain": [
       "(1541151, 2)"
      ]
     },
     "execution_count": 41,
     "metadata": {},
     "output_type": "execute_result"
    }
   ],
   "source": [
    "# De las comunidades detectadas en el proceso posterior, eliminamos algunos de los hashtags que aparezcan en el filtro\n",
    "# para rearmar la red de hashtags y ver que topicos y que ocurre si sacamos los que no aportan nada\n",
    "if (FILTRAR_ENTROPIA):\n",
    "    tweet_hashtags_df = tweet_hashtags_df.merge(filter_hashtags)\n",
    "tweet_hashtags_df.shape"
   ]
  },
  {
   "cell_type": "markdown",
   "metadata": {},
   "source": [
    "De los 2.6 millones de *tweets*, aplicando el filtro de entropía nos quedamos con 1.5 millones"
   ]
  },
  {
   "cell_type": "code",
   "execution_count": 42,
   "metadata": {
    "collapsed": true
   },
   "outputs": [],
   "source": [
    "hashtags = pd.read_csv('csv_files/hashtags.csv', keep_default_na = False, na_values=['_'])\n",
    "inverse_hashtags = dict()\n",
    "for index, row in hashtags.iterrows():\n",
    "    inverse_hashtags[str(row[\"hashtag\"])] = row[\"id\"]\n",
    "\n",
    "tweets = tweet_hashtags_df[[\"tweet_id\"]].drop_duplicates().reset_index()\n",
    "inverse_tweets = dict()\n",
    "for index, row in tweets.iterrows():\n",
    "    inverse_tweets[str(row[\"tweet_id\"])] = row[\"index\"]"
   ]
  },
  {
   "cell_type": "code",
   "execution_count": 43,
   "metadata": {},
   "outputs": [
    {
     "data": {
      "text/html": [
       "<div>\n",
       "<style>\n",
       "    .dataframe thead tr:only-child th {\n",
       "        text-align: right;\n",
       "    }\n",
       "\n",
       "    .dataframe thead th {\n",
       "        text-align: left;\n",
       "    }\n",
       "\n",
       "    .dataframe tbody tr th {\n",
       "        vertical-align: top;\n",
       "    }\n",
       "</style>\n",
       "<table border=\"1\" class=\"dataframe\">\n",
       "  <thead>\n",
       "    <tr style=\"text-align: right;\">\n",
       "      <th></th>\n",
       "      <th>tweet_id</th>\n",
       "      <th>hashtag</th>\n",
       "    </tr>\n",
       "  </thead>\n",
       "  <tbody>\n",
       "    <tr>\n",
       "      <th>0</th>\n",
       "      <td>563fb22e63d0c46d6cad4d77</td>\n",
       "      <td>MichaelJackson</td>\n",
       "    </tr>\n",
       "    <tr>\n",
       "      <th>1</th>\n",
       "      <td>563fb22e63d0c46d6cad4d6a</td>\n",
       "      <td>MichaelJackson</td>\n",
       "    </tr>\n",
       "    <tr>\n",
       "      <th>2</th>\n",
       "      <td>563fb22e63d0c46d6cad4db9</td>\n",
       "      <td>MichaelJackson</td>\n",
       "    </tr>\n",
       "    <tr>\n",
       "      <th>3</th>\n",
       "      <td>563fb22e63d0c46d6cad4dfa</td>\n",
       "      <td>MichaelJackson</td>\n",
       "    </tr>\n",
       "    <tr>\n",
       "      <th>4</th>\n",
       "      <td>56498c6763d0c42c0c4b2761</td>\n",
       "      <td>MichaelJackson</td>\n",
       "    </tr>\n",
       "  </tbody>\n",
       "</table>\n",
       "</div>"
      ],
      "text/plain": [
       "                   tweet_id         hashtag\n",
       "0  563fb22e63d0c46d6cad4d77  MichaelJackson\n",
       "1  563fb22e63d0c46d6cad4d6a  MichaelJackson\n",
       "2  563fb22e63d0c46d6cad4db9  MichaelJackson\n",
       "3  563fb22e63d0c46d6cad4dfa  MichaelJackson\n",
       "4  56498c6763d0c42c0c4b2761  MichaelJackson"
      ]
     },
     "execution_count": 43,
     "metadata": {},
     "output_type": "execute_result"
    }
   ],
   "source": [
    "tweet_hashtags_df.head()"
   ]
  },
  {
   "cell_type": "code",
   "execution_count": 44,
   "metadata": {},
   "outputs": [
    {
     "data": {
      "text/plain": [
       "1272496"
      ]
     },
     "execution_count": 44,
     "metadata": {},
     "output_type": "execute_result"
    }
   ],
   "source": [
    "len(inverse_hashtags)"
   ]
  },
  {
   "cell_type": "code",
   "execution_count": 45,
   "metadata": {},
   "outputs": [
    {
     "data": {
      "text/plain": [
       "795331"
      ]
     },
     "execution_count": 45,
     "metadata": {},
     "output_type": "execute_result"
    }
   ],
   "source": [
    "len(inverse_tweets)"
   ]
  },
  {
   "cell_type": "code",
   "execution_count": 46,
   "metadata": {},
   "outputs": [
    {
     "data": {
      "text/plain": [
       "<1541151x1272496 sparse matrix of type '<class 'numpy.int64'>'\n",
       "\twith 1541151 stored elements in Compressed Sparse Row format>"
      ]
     },
     "execution_count": 46,
     "metadata": {},
     "output_type": "execute_result"
    }
   ],
   "source": [
    "tweet_indexes = [inverse_tweets[t] for t in tweet_hashtags_df.tweet_id.values]\n",
    "hashtag_indexes = [inverse_hashtags[h] for h in tweet_hashtags_df.hashtag.values]\n",
    "values = [1 for i in range(len(tweet_indexes))]\n",
    "mat = coo_matrix((values, (tweet_indexes, hashtag_indexes)),shape=(len(tweet_indexes), len(hashtags.id.values)))\n",
    "mat = mat.tocsr()\n",
    "mat"
   ]
  },
  {
   "cell_type": "code",
   "execution_count": 47,
   "metadata": {},
   "outputs": [
    {
     "data": {
      "text/plain": [
       "<1272496x1272496 sparse matrix of type '<class 'numpy.int64'>'\n",
       "\twith 825881 stored elements in Compressed Sparse Row format>"
      ]
     },
     "execution_count": 47,
     "metadata": {},
     "output_type": "execute_result"
    }
   ],
   "source": [
    "# Producto de la matriz, obtenemos la matriz de coocurrencia de hashtags\n",
    "res = mat.T.dot(mat)\n",
    "res = res.tocsr()\n",
    "res"
   ]
  },
  {
   "cell_type": "markdown",
   "metadata": {},
   "source": [
    "# Finalmente exporto la matriz de co-ocurrencia de hashtags con el UMBRAL que corresponde"
   ]
  },
  {
   "cell_type": "code",
   "execution_count": 48,
   "metadata": {
    "collapsed": true
   },
   "outputs": [],
   "source": [
    "# Filtrar diagonal principal de hashtags\n",
    "pairs = [(x,y,w) for (x,y,w) in zip(res.nonzero()[0], res.nonzero()[1], res[res.nonzero()].A1) if x != y ]"
   ]
  },
  {
   "cell_type": "code",
   "execution_count": 49,
   "metadata": {},
   "outputs": [
    {
     "data": {
      "text/plain": [
       "44379"
      ]
     },
     "execution_count": 49,
     "metadata": {},
     "output_type": "execute_result"
    }
   ],
   "source": [
    "len(np.unique(res.nonzero()))"
   ]
  },
  {
   "cell_type": "code",
   "execution_count": 50,
   "metadata": {
    "collapsed": true
   },
   "outputs": [],
   "source": [
    "if (USAR_RETWEETS):\n",
    "    sp.save_npz('npz_files/grafo_coocurrencia_umbral'+str(UMBRAL)+'_entropia'+str(FILTRAR_ENTROPIA), res, compressed=True)\n",
    "    np.savetxt('npz_files/grafo_coocurrencia_umbral'+str(UMBRAL)+'_entropia'+str(FILTRAR_ENTROPIA)+'.txt', pairs, fmt=\"%d\")\n",
    "else:\n",
    "    sp.save_npz('npz_files/grafo_coocurrencia_umbral'+str(UMBRAL)+'_entropia'+str(FILTRAR_ENTROPIA)+'_sin_retweets', res, compressed=True)\n",
    "    np.savetxt('npz_files/grafo_coocurrencia_umbral'+str(UMBRAL)+'_entropia'+str(FILTRAR_ENTROPIA)+'_sin_retweets.txt', pairs, fmt=\"%d\")"
   ]
  },
  {
   "cell_type": "markdown",
   "metadata": {},
   "source": [
    "## Ejecutar OSLOM\n",
    "```./oslom_undir -f grafo_coocurrencia...txt -w```\n",
    "\n",
    "```cp tp clu_files/grafo_coocurrencia...txt```"
   ]
  },
  {
   "cell_type": "code",
   "execution_count": 51,
   "metadata": {
    "collapsed": true
   },
   "outputs": [],
   "source": [
    "def extract_oslom(filename):\n",
    "    \"\"\"Funcion que extrae las comunidades detectadas por OSLOM a las que pertence un vertice de la red.\n",
    "    OSLOM genera un archivo del estilo:\n",
    "    #module <numero-comunidad>\n",
    "    <vertice-id> <vertice-id> ... <vertice-id>\n",
    "    \"\"\"\n",
    "    clusters = {}\n",
    "    hashtag_clusters = {}\n",
    "    data = []\n",
    "    with open(filename) as f:\n",
    "        cluster = \"\"\n",
    "        for line in f:\n",
    "            m = re.search(\"^#module\\s([0-9]+).*\", line)\n",
    "            #print line\n",
    "            if (m is not None):\n",
    "                cluster = int(m.group(1))\n",
    "            else:\n",
    "                l = line.replace('\\n', ' ').strip().split(\" \")\n",
    "                l = list(map(int, l))\n",
    "                clusters[cluster] = l\n",
    "                for i in l:\n",
    "                    if not i in hashtag_clusters:\n",
    "                        hashtag_clusters[i] = set()\n",
    "                    hashtag_clusters[i].add(cluster)\n",
    "                    data.append([i, cluster])\n",
    "    return pd.DataFrame(data=data, columns=[\"id\", \"cluster\"]), hashtag_clusters"
   ]
  },
  {
   "cell_type": "markdown",
   "metadata": {},
   "source": [
    "# Generar un archivo con hashtag,cluster con un cluster unico por hashtag"
   ]
  },
  {
   "cell_type": "code",
   "execution_count": 52,
   "metadata": {},
   "outputs": [
    {
     "name": "stdout",
     "output_type": "stream",
     "text": [
      "#module 0 size: 4 bs: 8.08164e-05\n",
      "226456 1171592 1171593 1171594 \n",
      "#module 1 size: 3 bs: 7.11131e-07\n",
      "51718 51719 51720 \n"
     ]
    }
   ],
   "source": [
    "if (USAR_RETWEETS):\n",
    "    nombre_archivo = 'clu_files/grafo_coocurrencia_umbral'+str(UMBRAL)+'_entropia'+str(FILTRAR_ENTROPIA)+'.txt'\n",
    "else:\n",
    "    nombre_archivo = 'clu_files/grafo_coocurrencia_umbral'+str(UMBRAL)+'_entropia'+str(FILTRAR_ENTROPIA)+'_sin_retweets.txt'\n",
    "# Formato del archivo\n",
    "with open(nombre_archivo, 'r') as f:\n",
    "    for i in range(4):\n",
    "        print(f.readline().replace('\\n', ''))"
   ]
  },
  {
   "cell_type": "code",
   "execution_count": 53,
   "metadata": {},
   "outputs": [
    {
     "data": {
      "text/plain": [
       "(47831, 2)"
      ]
     },
     "execution_count": 53,
     "metadata": {},
     "output_type": "execute_result"
    }
   ],
   "source": [
    "if (USAR_RETWEETS):\n",
    "    comunidades_df, hashtag_clusters = extract_oslom(nombre_archivo)\n",
    "else:\n",
    "    comunidades_df, hashtag_clusters = extract_oslom(nombre_archivo)\n",
    "comunidades_df.shape"
   ]
  },
  {
   "cell_type": "code",
   "execution_count": 54,
   "metadata": {},
   "outputs": [
    {
     "data": {
      "text/html": [
       "<div>\n",
       "<style>\n",
       "    .dataframe thead tr:only-child th {\n",
       "        text-align: right;\n",
       "    }\n",
       "\n",
       "    .dataframe thead th {\n",
       "        text-align: left;\n",
       "    }\n",
       "\n",
       "    .dataframe tbody tr th {\n",
       "        vertical-align: top;\n",
       "    }\n",
       "</style>\n",
       "<table border=\"1\" class=\"dataframe\">\n",
       "  <thead>\n",
       "    <tr style=\"text-align: right;\">\n",
       "      <th></th>\n",
       "      <th>id</th>\n",
       "      <th>cluster</th>\n",
       "    </tr>\n",
       "  </thead>\n",
       "  <tbody>\n",
       "    <tr>\n",
       "      <th>0</th>\n",
       "      <td>226456</td>\n",
       "      <td>0</td>\n",
       "    </tr>\n",
       "    <tr>\n",
       "      <th>1</th>\n",
       "      <td>1171592</td>\n",
       "      <td>0</td>\n",
       "    </tr>\n",
       "    <tr>\n",
       "      <th>2</th>\n",
       "      <td>1171593</td>\n",
       "      <td>0</td>\n",
       "    </tr>\n",
       "    <tr>\n",
       "      <th>3</th>\n",
       "      <td>1171594</td>\n",
       "      <td>0</td>\n",
       "    </tr>\n",
       "    <tr>\n",
       "      <th>4</th>\n",
       "      <td>51718</td>\n",
       "      <td>1</td>\n",
       "    </tr>\n",
       "  </tbody>\n",
       "</table>\n",
       "</div>"
      ],
      "text/plain": [
       "        id  cluster\n",
       "0   226456        0\n",
       "1  1171592        0\n",
       "2  1171593        0\n",
       "3  1171594        0\n",
       "4    51718        1"
      ]
     },
     "execution_count": 54,
     "metadata": {},
     "output_type": "execute_result"
    }
   ],
   "source": [
    "comunidades_df.head()"
   ]
  },
  {
   "cell_type": "code",
   "execution_count": 55,
   "metadata": {},
   "outputs": [
    {
     "data": {
      "text/plain": [
       "(43844, 1)"
      ]
     },
     "execution_count": 55,
     "metadata": {},
     "output_type": "execute_result"
    }
   ],
   "source": [
    "comunidades_df[['id']].drop_duplicates().shape"
   ]
  },
  {
   "cell_type": "code",
   "execution_count": 56,
   "metadata": {},
   "outputs": [
    {
     "data": {
      "text/html": [
       "<div>\n",
       "<style>\n",
       "    .dataframe thead tr:only-child th {\n",
       "        text-align: right;\n",
       "    }\n",
       "\n",
       "    .dataframe thead th {\n",
       "        text-align: left;\n",
       "    }\n",
       "\n",
       "    .dataframe tbody tr th {\n",
       "        vertical-align: top;\n",
       "    }\n",
       "</style>\n",
       "<table border=\"1\" class=\"dataframe\">\n",
       "  <thead>\n",
       "    <tr style=\"text-align: right;\">\n",
       "      <th></th>\n",
       "      <th>source</th>\n",
       "      <th>target</th>\n",
       "      <th>weight</th>\n",
       "    </tr>\n",
       "  </thead>\n",
       "  <tbody>\n",
       "    <tr>\n",
       "      <th>0</th>\n",
       "      <td>10</td>\n",
       "      <td>11</td>\n",
       "      <td>1</td>\n",
       "    </tr>\n",
       "    <tr>\n",
       "      <th>1</th>\n",
       "      <td>10</td>\n",
       "      <td>233</td>\n",
       "      <td>1</td>\n",
       "    </tr>\n",
       "    <tr>\n",
       "      <th>2</th>\n",
       "      <td>10</td>\n",
       "      <td>297</td>\n",
       "      <td>1</td>\n",
       "    </tr>\n",
       "    <tr>\n",
       "      <th>3</th>\n",
       "      <td>10</td>\n",
       "      <td>319</td>\n",
       "      <td>4</td>\n",
       "    </tr>\n",
       "    <tr>\n",
       "      <th>4</th>\n",
       "      <td>10</td>\n",
       "      <td>534</td>\n",
       "      <td>1</td>\n",
       "    </tr>\n",
       "  </tbody>\n",
       "</table>\n",
       "</div>"
      ],
      "text/plain": [
       "   source  target  weight\n",
       "0      10      11       1\n",
       "1      10     233       1\n",
       "2      10     297       1\n",
       "3      10     319       4\n",
       "4      10     534       1"
      ]
     },
     "execution_count": 56,
     "metadata": {},
     "output_type": "execute_result"
    }
   ],
   "source": [
    "if (USAR_RETWEETS):\n",
    "    matriz_df_filename = 'npz_files/grafo_coocurrencia_umbral'+str(UMBRAL)+'_entropia'+str(FILTRAR_ENTROPIA)+'.txt'\n",
    "else:\n",
    "    matriz_df_filename = 'npz_files/grafo_coocurrencia_umbral'+str(UMBRAL)+'_entropia'+str(FILTRAR_ENTROPIA)+'_sin_retweets.txt'\n",
    "matriz_df = pd.read_csv(matriz_df_filename, header=None, sep=' ', names=['source', 'target', 'weight'])\n",
    "matriz_df.head()"
   ]
  },
  {
   "cell_type": "code",
   "execution_count": 57,
   "metadata": {},
   "outputs": [
    {
     "data": {
      "text/plain": [
       "(781502, 3)"
      ]
     },
     "execution_count": 57,
     "metadata": {},
     "output_type": "execute_result"
    }
   ],
   "source": [
    "matriz_df.shape"
   ]
  },
  {
   "cell_type": "code",
   "execution_count": 58,
   "metadata": {},
   "outputs": [
    {
     "data": {
      "text/html": [
       "<div>\n",
       "<style>\n",
       "    .dataframe thead tr:only-child th {\n",
       "        text-align: right;\n",
       "    }\n",
       "\n",
       "    .dataframe thead th {\n",
       "        text-align: left;\n",
       "    }\n",
       "\n",
       "    .dataframe tbody tr th {\n",
       "        vertical-align: top;\n",
       "    }\n",
       "</style>\n",
       "<table border=\"1\" class=\"dataframe\">\n",
       "  <thead>\n",
       "    <tr style=\"text-align: right;\">\n",
       "      <th></th>\n",
       "      <th>id</th>\n",
       "      <th>cluster</th>\n",
       "    </tr>\n",
       "  </thead>\n",
       "  <tbody>\n",
       "  </tbody>\n",
       "</table>\n",
       "</div>"
      ],
      "text/plain": [
       "Empty DataFrame\n",
       "Columns: [id, cluster]\n",
       "Index: []"
      ]
     },
     "execution_count": 58,
     "metadata": {},
     "output_type": "execute_result"
    }
   ],
   "source": [
    "# DataFrame final que va a tener una comunidad unica para cada hashtag\n",
    "comunidades_finales_df = pd.DataFrame(columns=['id', 'cluster'])\n",
    "comunidades_finales_df"
   ]
  },
  {
   "cell_type": "code",
   "execution_count": 59,
   "metadata": {},
   "outputs": [
    {
     "data": {
      "text/html": [
       "<div>\n",
       "<style>\n",
       "    .dataframe thead tr:only-child th {\n",
       "        text-align: right;\n",
       "    }\n",
       "\n",
       "    .dataframe thead th {\n",
       "        text-align: left;\n",
       "    }\n",
       "\n",
       "    .dataframe tbody tr th {\n",
       "        vertical-align: top;\n",
       "    }\n",
       "</style>\n",
       "<table border=\"1\" class=\"dataframe\">\n",
       "  <thead>\n",
       "    <tr style=\"text-align: right;\">\n",
       "      <th></th>\n",
       "      <th>id</th>\n",
       "      <th>cluster</th>\n",
       "    </tr>\n",
       "  </thead>\n",
       "  <tbody>\n",
       "    <tr>\n",
       "      <th>0</th>\n",
       "      <td>10</td>\n",
       "      <td>2</td>\n",
       "    </tr>\n",
       "    <tr>\n",
       "      <th>1</th>\n",
       "      <td>11</td>\n",
       "      <td>1</td>\n",
       "    </tr>\n",
       "  </tbody>\n",
       "</table>\n",
       "</div>"
      ],
      "text/plain": [
       "   id  cluster\n",
       "0  10        2\n",
       "1  11        1"
      ]
     },
     "execution_count": 59,
     "metadata": {},
     "output_type": "execute_result"
    }
   ],
   "source": [
    "agrupados = comunidades_df.groupby('id').count().reset_index()\n",
    "agrupados.head(2)"
   ]
  },
  {
   "cell_type": "code",
   "execution_count": 60,
   "metadata": {},
   "outputs": [
    {
     "data": {
      "text/plain": [
       "(3162, 2)"
      ]
     },
     "execution_count": 60,
     "metadata": {},
     "output_type": "execute_result"
    }
   ],
   "source": [
    "agrupados[agrupados[\"cluster\"] != 1].shape"
   ]
  },
  {
   "cell_type": "code",
   "execution_count": 61,
   "metadata": {},
   "outputs": [
    {
     "data": {
      "text/plain": [
       "(40682, 2)"
      ]
     },
     "execution_count": 61,
     "metadata": {},
     "output_type": "execute_result"
    }
   ],
   "source": [
    "comunidades_finales_df = pd.concat((comunidades_finales_df,comunidades_df[comunidades_df['id'].isin(\n",
    "    agrupados[agrupados[\"cluster\"] == 1].id.values)]))\n",
    "comunidades_finales_df.shape"
   ]
  },
  {
   "cell_type": "code",
   "execution_count": 62,
   "metadata": {},
   "outputs": [
    {
     "data": {
      "text/html": [
       "<div>\n",
       "<style>\n",
       "    .dataframe thead tr:only-child th {\n",
       "        text-align: right;\n",
       "    }\n",
       "\n",
       "    .dataframe thead th {\n",
       "        text-align: left;\n",
       "    }\n",
       "\n",
       "    .dataframe tbody tr th {\n",
       "        vertical-align: top;\n",
       "    }\n",
       "</style>\n",
       "<table border=\"1\" class=\"dataframe\">\n",
       "  <thead>\n",
       "    <tr style=\"text-align: right;\">\n",
       "      <th></th>\n",
       "      <th>id</th>\n",
       "      <th>cluster</th>\n",
       "    </tr>\n",
       "  </thead>\n",
       "  <tbody>\n",
       "    <tr>\n",
       "      <th>5679</th>\n",
       "      <td>10</td>\n",
       "      <td>673</td>\n",
       "    </tr>\n",
       "    <tr>\n",
       "      <th>23959</th>\n",
       "      <td>10</td>\n",
       "      <td>1194</td>\n",
       "    </tr>\n",
       "    <tr>\n",
       "      <th>32099</th>\n",
       "      <td>30</td>\n",
       "      <td>1284</td>\n",
       "    </tr>\n",
       "    <tr>\n",
       "      <th>9827</th>\n",
       "      <td>30</td>\n",
       "      <td>857</td>\n",
       "    </tr>\n",
       "    <tr>\n",
       "      <th>18685</th>\n",
       "      <td>46</td>\n",
       "      <td>1091</td>\n",
       "    </tr>\n",
       "  </tbody>\n",
       "</table>\n",
       "</div>"
      ],
      "text/plain": [
       "       id  cluster\n",
       "5679   10      673\n",
       "23959  10     1194\n",
       "32099  30     1284\n",
       "9827   30      857\n",
       "18685  46     1091"
      ]
     },
     "execution_count": 62,
     "metadata": {},
     "output_type": "execute_result"
    }
   ],
   "source": [
    "comunidades_multiples_df = comunidades_df[comunidades_df['id'].isin(agrupados[agrupados[\"cluster\"]!=1].id.values)].sort_values('id')\n",
    "comunidades_multiples_df.head()"
   ]
  },
  {
   "cell_type": "code",
   "execution_count": 63,
   "metadata": {},
   "outputs": [
    {
     "data": {
      "text/html": [
       "<div>\n",
       "<style>\n",
       "    .dataframe thead tr:only-child th {\n",
       "        text-align: right;\n",
       "    }\n",
       "\n",
       "    .dataframe thead th {\n",
       "        text-align: left;\n",
       "    }\n",
       "\n",
       "    .dataframe tbody tr th {\n",
       "        vertical-align: top;\n",
       "    }\n",
       "</style>\n",
       "<table border=\"1\" class=\"dataframe\">\n",
       "  <thead>\n",
       "    <tr style=\"text-align: right;\">\n",
       "      <th></th>\n",
       "      <th>source</th>\n",
       "      <th>target</th>\n",
       "      <th>weight</th>\n",
       "      <th>id_x</th>\n",
       "      <th>cluster_x</th>\n",
       "      <th>id_y</th>\n",
       "      <th>cluster_y</th>\n",
       "    </tr>\n",
       "  </thead>\n",
       "  <tbody>\n",
       "    <tr>\n",
       "      <th>0</th>\n",
       "      <td>10</td>\n",
       "      <td>11</td>\n",
       "      <td>1</td>\n",
       "      <td>10</td>\n",
       "      <td>673</td>\n",
       "      <td>11</td>\n",
       "      <td>1085</td>\n",
       "    </tr>\n",
       "    <tr>\n",
       "      <th>1</th>\n",
       "      <td>10</td>\n",
       "      <td>11</td>\n",
       "      <td>1</td>\n",
       "      <td>10</td>\n",
       "      <td>1194</td>\n",
       "      <td>11</td>\n",
       "      <td>1085</td>\n",
       "    </tr>\n",
       "    <tr>\n",
       "      <th>2</th>\n",
       "      <td>6115</td>\n",
       "      <td>11</td>\n",
       "      <td>2</td>\n",
       "      <td>6115</td>\n",
       "      <td>1368</td>\n",
       "      <td>11</td>\n",
       "      <td>1085</td>\n",
       "    </tr>\n",
       "    <tr>\n",
       "      <th>3</th>\n",
       "      <td>6115</td>\n",
       "      <td>11</td>\n",
       "      <td>2</td>\n",
       "      <td>6115</td>\n",
       "      <td>1372</td>\n",
       "      <td>11</td>\n",
       "      <td>1085</td>\n",
       "    </tr>\n",
       "    <tr>\n",
       "      <th>4</th>\n",
       "      <td>10</td>\n",
       "      <td>233</td>\n",
       "      <td>1</td>\n",
       "      <td>10</td>\n",
       "      <td>673</td>\n",
       "      <td>233</td>\n",
       "      <td>1314</td>\n",
       "    </tr>\n",
       "  </tbody>\n",
       "</table>\n",
       "</div>"
      ],
      "text/plain": [
       "   source  target  weight  id_x  cluster_x  id_y  cluster_y\n",
       "0      10      11       1    10        673    11       1085\n",
       "1      10      11       1    10       1194    11       1085\n",
       "2    6115      11       2  6115       1368    11       1085\n",
       "3    6115      11       2  6115       1372    11       1085\n",
       "4      10     233       1    10        673   233       1314"
      ]
     },
     "execution_count": 63,
     "metadata": {},
     "output_type": "execute_result"
    }
   ],
   "source": [
    "todos_df = matriz_df.merge(comunidades_multiples_df, left_on='source', right_on='id').merge(comunidades_df, left_on='target', right_on='id')\n",
    "todos_df.head()"
   ]
  },
  {
   "cell_type": "code",
   "execution_count": 64,
   "metadata": {},
   "outputs": [
    {
     "data": {
      "text/html": [
       "<div>\n",
       "<style>\n",
       "    .dataframe thead tr:only-child th {\n",
       "        text-align: right;\n",
       "    }\n",
       "\n",
       "    .dataframe thead th {\n",
       "        text-align: left;\n",
       "    }\n",
       "\n",
       "    .dataframe tbody tr th {\n",
       "        vertical-align: top;\n",
       "    }\n",
       "</style>\n",
       "<table border=\"1\" class=\"dataframe\">\n",
       "  <thead>\n",
       "    <tr style=\"text-align: right;\">\n",
       "      <th></th>\n",
       "      <th>source</th>\n",
       "      <th>target</th>\n",
       "      <th>weight</th>\n",
       "      <th>id_x</th>\n",
       "      <th>cluster_x</th>\n",
       "      <th>id_y</th>\n",
       "      <th>cluster_y</th>\n",
       "    </tr>\n",
       "  </thead>\n",
       "  <tbody>\n",
       "    <tr>\n",
       "      <th>60</th>\n",
       "      <td>243</td>\n",
       "      <td>233</td>\n",
       "      <td>146</td>\n",
       "      <td>243</td>\n",
       "      <td>1314</td>\n",
       "      <td>233</td>\n",
       "      <td>1314</td>\n",
       "    </tr>\n",
       "    <tr>\n",
       "      <th>246</th>\n",
       "      <td>1441</td>\n",
       "      <td>233</td>\n",
       "      <td>17</td>\n",
       "      <td>1441</td>\n",
       "      <td>1314</td>\n",
       "      <td>233</td>\n",
       "      <td>1314</td>\n",
       "    </tr>\n",
       "    <tr>\n",
       "      <th>282</th>\n",
       "      <td>1733</td>\n",
       "      <td>233</td>\n",
       "      <td>84</td>\n",
       "      <td>1733</td>\n",
       "      <td>1314</td>\n",
       "      <td>233</td>\n",
       "      <td>1314</td>\n",
       "    </tr>\n",
       "    <tr>\n",
       "      <th>286</th>\n",
       "      <td>1821</td>\n",
       "      <td>233</td>\n",
       "      <td>56</td>\n",
       "      <td>1821</td>\n",
       "      <td>1314</td>\n",
       "      <td>233</td>\n",
       "      <td>1314</td>\n",
       "    </tr>\n",
       "    <tr>\n",
       "      <th>320</th>\n",
       "      <td>2369</td>\n",
       "      <td>233</td>\n",
       "      <td>2</td>\n",
       "      <td>2369</td>\n",
       "      <td>1314</td>\n",
       "      <td>233</td>\n",
       "      <td>1314</td>\n",
       "    </tr>\n",
       "  </tbody>\n",
       "</table>\n",
       "</div>"
      ],
      "text/plain": [
       "     source  target  weight  id_x  cluster_x  id_y  cluster_y\n",
       "60      243     233     146   243       1314   233       1314\n",
       "246    1441     233      17  1441       1314   233       1314\n",
       "282    1733     233      84  1733       1314   233       1314\n",
       "286    1821     233      56  1821       1314   233       1314\n",
       "320    2369     233       2  2369       1314   233       1314"
      ]
     },
     "execution_count": 64,
     "metadata": {},
     "output_type": "execute_result"
    }
   ],
   "source": [
    "todos_iguales_df = todos_df[todos_df[\"cluster_x\"] == todos_df[\"cluster_y\"]]\n",
    "todos_iguales_df.head()"
   ]
  },
  {
   "cell_type": "code",
   "execution_count": 65,
   "metadata": {},
   "outputs": [
    {
     "data": {
      "text/plain": [
       "3162"
      ]
     },
     "execution_count": 65,
     "metadata": {},
     "output_type": "execute_result"
    }
   ],
   "source": [
    "len(np.unique(todos_iguales_df.source.values))"
   ]
  },
  {
   "cell_type": "code",
   "execution_count": 66,
   "metadata": {
    "collapsed": true
   },
   "outputs": [],
   "source": [
    "def agrupar_maximo(df):\n",
    "    \"\"\"Para un hashtag, ver cuales son los hashtags vecinos con los que fue utilizado, y de ellos ver cual\n",
    "    es el topico de uso mayoritario entre el hashtag y sus vecinos\"\"\"\n",
    "    g = df.groupby(['cluster_x']).sum().reset_index()[['cluster_x', 'weight']].sort_values('weight', ascending=False)\n",
    "    cluster = g['cluster_x'].values[0]\n",
    "    suma = g['weight'].values[0]\n",
    "    return pd.DataFrame(data=[[cluster,suma]], columns=['cluster_final', 'suma'])"
   ]
  },
  {
   "cell_type": "code",
   "execution_count": 67,
   "metadata": {},
   "outputs": [
    {
     "data": {
      "text/html": [
       "<div>\n",
       "<style>\n",
       "    .dataframe thead tr:only-child th {\n",
       "        text-align: right;\n",
       "    }\n",
       "\n",
       "    .dataframe thead th {\n",
       "        text-align: left;\n",
       "    }\n",
       "\n",
       "    .dataframe tbody tr th {\n",
       "        vertical-align: top;\n",
       "    }\n",
       "</style>\n",
       "<table border=\"1\" class=\"dataframe\">\n",
       "  <thead>\n",
       "    <tr style=\"text-align: right;\">\n",
       "      <th></th>\n",
       "      <th>source</th>\n",
       "      <th>level_1</th>\n",
       "      <th>cluster_final</th>\n",
       "      <th>suma</th>\n",
       "    </tr>\n",
       "  </thead>\n",
       "  <tbody>\n",
       "    <tr>\n",
       "      <th>0</th>\n",
       "      <td>10</td>\n",
       "      <td>0</td>\n",
       "      <td>673</td>\n",
       "      <td>77</td>\n",
       "    </tr>\n",
       "    <tr>\n",
       "      <th>1</th>\n",
       "      <td>30</td>\n",
       "      <td>0</td>\n",
       "      <td>857</td>\n",
       "      <td>11</td>\n",
       "    </tr>\n",
       "    <tr>\n",
       "      <th>2</th>\n",
       "      <td>46</td>\n",
       "      <td>0</td>\n",
       "      <td>1171</td>\n",
       "      <td>55</td>\n",
       "    </tr>\n",
       "    <tr>\n",
       "      <th>3</th>\n",
       "      <td>74</td>\n",
       "      <td>0</td>\n",
       "      <td>1057</td>\n",
       "      <td>1549</td>\n",
       "    </tr>\n",
       "    <tr>\n",
       "      <th>4</th>\n",
       "      <td>78</td>\n",
       "      <td>0</td>\n",
       "      <td>1379</td>\n",
       "      <td>432</td>\n",
       "    </tr>\n",
       "  </tbody>\n",
       "</table>\n",
       "</div>"
      ],
      "text/plain": [
       "   source  level_1  cluster_final  suma\n",
       "0      10        0            673    77\n",
       "1      30        0            857    11\n",
       "2      46        0           1171    55\n",
       "3      74        0           1057  1549\n",
       "4      78        0           1379   432"
      ]
     },
     "execution_count": 67,
     "metadata": {},
     "output_type": "execute_result"
    }
   ],
   "source": [
    "hashtags_comunidades_unicos_df = todos_iguales_df.groupby('source').apply(agrupar_maximo).reset_index()\n",
    "hashtags_comunidades_unicos_df.head()"
   ]
  },
  {
   "cell_type": "code",
   "execution_count": 68,
   "metadata": {},
   "outputs": [
    {
     "data": {
      "text/html": [
       "<div>\n",
       "<style>\n",
       "    .dataframe thead tr:only-child th {\n",
       "        text-align: right;\n",
       "    }\n",
       "\n",
       "    .dataframe thead th {\n",
       "        text-align: left;\n",
       "    }\n",
       "\n",
       "    .dataframe tbody tr th {\n",
       "        vertical-align: top;\n",
       "    }\n",
       "</style>\n",
       "<table border=\"1\" class=\"dataframe\">\n",
       "  <thead>\n",
       "    <tr style=\"text-align: right;\">\n",
       "      <th></th>\n",
       "      <th>id</th>\n",
       "      <th>cluster</th>\n",
       "    </tr>\n",
       "  </thead>\n",
       "  <tbody>\n",
       "    <tr>\n",
       "      <th>0</th>\n",
       "      <td>10</td>\n",
       "      <td>673</td>\n",
       "    </tr>\n",
       "    <tr>\n",
       "      <th>1</th>\n",
       "      <td>30</td>\n",
       "      <td>857</td>\n",
       "    </tr>\n",
       "    <tr>\n",
       "      <th>2</th>\n",
       "      <td>46</td>\n",
       "      <td>1171</td>\n",
       "    </tr>\n",
       "    <tr>\n",
       "      <th>3</th>\n",
       "      <td>74</td>\n",
       "      <td>1057</td>\n",
       "    </tr>\n",
       "    <tr>\n",
       "      <th>4</th>\n",
       "      <td>78</td>\n",
       "      <td>1379</td>\n",
       "    </tr>\n",
       "  </tbody>\n",
       "</table>\n",
       "</div>"
      ],
      "text/plain": [
       "   id  cluster\n",
       "0  10      673\n",
       "1  30      857\n",
       "2  46     1171\n",
       "3  74     1057\n",
       "4  78     1379"
      ]
     },
     "execution_count": 68,
     "metadata": {},
     "output_type": "execute_result"
    }
   ],
   "source": [
    "hashtags_comunidades_unicos_df = hashtags_comunidades_unicos_df[['source', 'cluster_final']]\n",
    "hashtags_comunidades_unicos_df.columns = ['id', 'cluster']\n",
    "hashtags_comunidades_unicos_df.head()"
   ]
  },
  {
   "cell_type": "code",
   "execution_count": 69,
   "metadata": {},
   "outputs": [
    {
     "data": {
      "text/plain": [
       "(3162, 2)"
      ]
     },
     "execution_count": 69,
     "metadata": {},
     "output_type": "execute_result"
    }
   ],
   "source": [
    "hashtags_comunidades_unicos_df.shape"
   ]
  },
  {
   "cell_type": "code",
   "execution_count": 70,
   "metadata": {},
   "outputs": [
    {
     "data": {
      "text/html": [
       "<div>\n",
       "<style>\n",
       "    .dataframe thead tr:only-child th {\n",
       "        text-align: right;\n",
       "    }\n",
       "\n",
       "    .dataframe thead th {\n",
       "        text-align: left;\n",
       "    }\n",
       "\n",
       "    .dataframe tbody tr th {\n",
       "        vertical-align: top;\n",
       "    }\n",
       "</style>\n",
       "<table border=\"1\" class=\"dataframe\">\n",
       "  <thead>\n",
       "    <tr style=\"text-align: right;\">\n",
       "      <th></th>\n",
       "      <th>id</th>\n",
       "      <th>cluster_x</th>\n",
       "      <th>cluster_y</th>\n",
       "    </tr>\n",
       "  </thead>\n",
       "  <tbody>\n",
       "  </tbody>\n",
       "</table>\n",
       "</div>"
      ],
      "text/plain": [
       "Empty DataFrame\n",
       "Columns: [id, cluster_x, cluster_y]\n",
       "Index: []"
      ]
     },
     "execution_count": 70,
     "metadata": {},
     "output_type": "execute_result"
    }
   ],
   "source": [
    "hashtags_comunidades_unicos_df.merge(comunidades_finales_df, left_on='id', right_on='id')"
   ]
  },
  {
   "cell_type": "code",
   "execution_count": 71,
   "metadata": {},
   "outputs": [
    {
     "data": {
      "text/plain": [
       "(43844, 1)"
      ]
     },
     "execution_count": 71,
     "metadata": {},
     "output_type": "execute_result"
    }
   ],
   "source": [
    "comunidades_finales_df = pd.concat((comunidades_finales_df, hashtags_comunidades_unicos_df))\n",
    "comunidades_finales_df.sort_values('id', inplace=True)\n",
    "comunidades_finales_df[['id']].drop_duplicates().shape"
   ]
  },
  {
   "cell_type": "markdown",
   "metadata": {},
   "source": [
    "# Exportar a Gephi y LaNet-vi\n",
    "### Exportar red de co-ocurrencia de hashtags con distintos parámetros para poder visualizarla"
   ]
  },
  {
   "cell_type": "markdown",
   "metadata": {},
   "source": [
    "## Gephi"
   ]
  },
  {
   "cell_type": "code",
   "execution_count": 72,
   "metadata": {},
   "outputs": [
    {
     "data": {
      "text/plain": [
       "<1272496x1272496 sparse matrix of type '<class 'numpy.int64'>'\n",
       "\twith 825881 stored elements in Compressed Sparse Row format>"
      ]
     },
     "execution_count": 72,
     "metadata": {},
     "output_type": "execute_result"
    }
   ],
   "source": [
    "if (not 'res' in locals()):\n",
    "    if (USAR_RETWEETS):\n",
    "        res = sp.load_npz('npz_files/grafo_coocurrencia_umbral'+str(UMBRAL)+'_entropia'+str(FILTRAR_ENTROPIA)+'.npz')\n",
    "    else:\n",
    "        res = sp.load_npz('npz_files/grafo_coocurrencia_umbral'+str(UMBRAL)+'_entropia'+str(FILTRAR_ENTROPIA)+'_sin_retweets.npz')\n",
    "res"
   ]
  },
  {
   "cell_type": "code",
   "execution_count": 73,
   "metadata": {
    "collapsed": true
   },
   "outputs": [],
   "source": [
    "hashtags_df = pd.read_csv('csv_files/hashtags.csv', keep_default_na = False, na_values=['_'])\n",
    "hashtags = hashtags_df.to_dict()[\"hashtag\"]"
   ]
  },
  {
   "cell_type": "code",
   "execution_count": 74,
   "metadata": {
    "collapsed": true
   },
   "outputs": [],
   "source": [
    "aristas = [(x,y,w) for (x,y,w) in zip(res.nonzero()[0], res.nonzero()[1], res[res.nonzero()].A1) if x > y and w >= GEPHI_UMBRAL]\n",
    "origen = [x for (x,y,w) in zip(res.nonzero()[0], res.nonzero()[1], res[res.nonzero()].A1) if x > y and w >= GEPHI_UMBRAL]\n",
    "destino = [y for (x,y,w) in zip(res.nonzero()[0], res.nonzero()[1], res[res.nonzero()].A1) if x > y and w >= GEPHI_UMBRAL]\n",
    "vertices = np.unique(np.concatenate((origen,destino)))"
   ]
  },
  {
   "cell_type": "code",
   "execution_count": 75,
   "metadata": {},
   "outputs": [
    {
     "data": {
      "text/plain": [
       "4427"
      ]
     },
     "execution_count": 75,
     "metadata": {},
     "output_type": "execute_result"
    }
   ],
   "source": [
    "len(vertices)"
   ]
  },
  {
   "cell_type": "code",
   "execution_count": 76,
   "metadata": {},
   "outputs": [
    {
     "data": {
      "text/plain": [
       "673"
      ]
     },
     "execution_count": 76,
     "metadata": {},
     "output_type": "execute_result"
    }
   ],
   "source": [
    "hashtag_clusters = {}\n",
    "for index, row in comunidades_finales_df.iterrows():\n",
    "    hashtag_clusters[row['id']] = row['cluster']\n",
    "hashtag_clusters[10]"
   ]
  },
  {
   "cell_type": "code",
   "execution_count": 77,
   "metadata": {
    "collapsed": true
   },
   "outputs": [],
   "source": [
    "# Exportar aristas\n",
    "with open('gephi/gephi_aristas_'+str(GEPHI_UMBRAL)+'.csv', \"w\") as f:\n",
    "    f.write('Source,Target,Weight,Color\\n')\n",
    "    for h1,h2,w in aristas:\n",
    "        color = ''\n",
    "        if (hashtag_clusters[h1] == hashtag_clusters[h2]):\n",
    "            color = 'same'\n",
    "        else:\n",
    "            color = 'diff'\n",
    "        f.write(str(h1) + \",\"+str(h2)+ \",\"+str(w)+\",\"+color+\"\\n\")"
   ]
  },
  {
   "cell_type": "code",
   "execution_count": 78,
   "metadata": {},
   "outputs": [
    {
     "data": {
      "text/plain": [
       "(43844, 2)"
      ]
     },
     "execution_count": 78,
     "metadata": {},
     "output_type": "execute_result"
    }
   ],
   "source": [
    "comunidades_finales_df.shape"
   ]
  },
  {
   "cell_type": "code",
   "execution_count": 79,
   "metadata": {
    "collapsed": true
   },
   "outputs": [],
   "source": [
    "# Exportar vertices\n",
    "filtered_hashtags = hashtags_df[hashtags_df[\"id\"].isin(vertices)]\n",
    "vertices_df = filtered_hashtags.merge(comunidades_finales_df)\n",
    "vertices_df.columns = [\"Id\", \"Label\", \"Cluster\"]\n",
    "vertices_df.to_csv('gephi/gephi_vertices_'+str(GEPHI_UMBRAL)+'.csv',index=False)"
   ]
  },
  {
   "cell_type": "markdown",
   "metadata": {},
   "source": [
    "## Large Network Visualization"
   ]
  },
  {
   "cell_type": "code",
   "execution_count": 80,
   "metadata": {
    "collapsed": true
   },
   "outputs": [],
   "source": [
    "# Exportar vertices \n",
    "hashtags_df.to_csv('lanet/lanet_vertices.csv',index=False, header=None, sep=\" \")"
   ]
  },
  {
   "cell_type": "code",
   "execution_count": 81,
   "metadata": {
    "collapsed": true
   },
   "outputs": [],
   "source": [
    "# Exportar aristas, por el momento no utilizamos los pesos\n",
    "aristas = [(x,y, w) for (x,y,w) in zip(res.nonzero()[0], res.nonzero()[1], res[res.nonzero()].A1) if x > y ]\n",
    "np.savetxt('lanet/lanet_red.csv', aristas, fmt=\"%d\")"
   ]
  },
  {
   "cell_type": "markdown",
   "metadata": {},
   "source": [
    "### Ejecutar Lanet\n",
    "```./lanet -logfile -logstdout -coresfile cores -W 4000 -H 3000 -render svg -input lanet_red.csv -decomp kdenses -edges 1.0 -fromlayer 0 -names lanet_vertices.csv```\n",
    "\n",
    "\n",
    "```./lanet -logfile -logstdout -coresfile cores -W 4000 -H 3000 -render svg -input lanet_red.csv -decomp kcores -edges 1.0 -fromlayer 0 -names lanet_vertices.csv```"
   ]
  }
 ],
 "metadata": {
  "kernelspec": {
   "display_name": "Python 3",
   "language": "python",
   "name": "python3"
  },
  "language_info": {
   "codemirror_mode": {
    "name": "ipython",
    "version": 3
   },
   "file_extension": ".py",
   "mimetype": "text/x-python",
   "name": "python",
   "nbconvert_exporter": "python",
   "pygments_lexer": "ipython3",
   "version": "3.6.3"
  }
 },
 "nbformat": 4,
 "nbformat_minor": 2
}
